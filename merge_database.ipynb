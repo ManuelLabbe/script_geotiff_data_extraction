{
 "cells": [
  {
   "cell_type": "code",
   "execution_count": 1,
   "metadata": {},
   "outputs": [],
   "source": [
    "import pandas as pd"
   ]
  },
  {
   "cell_type": "code",
   "execution_count": 63,
   "metadata": {},
   "outputs": [],
   "source": [
    "coso = pd.read_csv('coso.csv')\n",
    "new0 = pd.read_csv('New_DB_new0.csv')"
   ]
  },
  {
   "cell_type": "code",
   "execution_count": 64,
   "metadata": {},
   "outputs": [],
   "source": [
    "new0 = new0[['PP', 'slope', 'valor_humedad_suelo1', 'Latitud', 'Longitud']].dropna()\n",
    "coso = coso[['PP', 'slope', 'valor_humedad_suelo1', 'Latitud', 'Longitud']].dropna()"
   ]
  },
  {
   "cell_type": "code",
   "execution_count": 65,
   "metadata": {},
   "outputs": [],
   "source": [
    "data_0 = pd.read_csv('xterrae_data_0').dropna()\n",
    "data_1 = pd.read_csv('xterrae_data_1').dropna()"
   ]
  },
  {
   "cell_type": "code",
   "execution_count": 66,
   "metadata": {},
   "outputs": [
    {
     "data": {
      "text/html": [
       "<div>\n",
       "<style scoped>\n",
       "    .dataframe tbody tr th:only-of-type {\n",
       "        vertical-align: middle;\n",
       "    }\n",
       "\n",
       "    .dataframe tbody tr th {\n",
       "        vertical-align: top;\n",
       "    }\n",
       "\n",
       "    .dataframe thead th {\n",
       "        text-align: right;\n",
       "    }\n",
       "</style>\n",
       "<table border=\"1\" class=\"dataframe\">\n",
       "  <thead>\n",
       "    <tr style=\"text-align: right;\">\n",
       "      <th></th>\n",
       "      <th>PP</th>\n",
       "      <th>slope</th>\n",
       "      <th>valor_humedad_suelo1</th>\n",
       "      <th>Latitud</th>\n",
       "      <th>Longitud</th>\n",
       "    </tr>\n",
       "  </thead>\n",
       "  <tbody>\n",
       "    <tr>\n",
       "      <th>0</th>\n",
       "      <td>71.563169</td>\n",
       "      <td>23.981049</td>\n",
       "      <td>0.438995</td>\n",
       "      <td>-39.597580</td>\n",
       "      <td>-72.260578</td>\n",
       "    </tr>\n",
       "    <tr>\n",
       "      <th>1</th>\n",
       "      <td>71.563169</td>\n",
       "      <td>26.626618</td>\n",
       "      <td>0.438995</td>\n",
       "      <td>-39.598738</td>\n",
       "      <td>-72.254661</td>\n",
       "    </tr>\n",
       "    <tr>\n",
       "      <th>2</th>\n",
       "      <td>71.563169</td>\n",
       "      <td>28.545852</td>\n",
       "      <td>0.438995</td>\n",
       "      <td>-39.582146</td>\n",
       "      <td>-72.258995</td>\n",
       "    </tr>\n",
       "    <tr>\n",
       "      <th>3</th>\n",
       "      <td>71.563169</td>\n",
       "      <td>28.545852</td>\n",
       "      <td>0.438995</td>\n",
       "      <td>-39.580483</td>\n",
       "      <td>-72.272591</td>\n",
       "    </tr>\n",
       "    <tr>\n",
       "      <th>4</th>\n",
       "      <td>7.532796</td>\n",
       "      <td>35.594937</td>\n",
       "      <td>0.438187</td>\n",
       "      <td>-39.561471</td>\n",
       "      <td>-72.286932</td>\n",
       "    </tr>\n",
       "    <tr>\n",
       "      <th>...</th>\n",
       "      <td>...</td>\n",
       "      <td>...</td>\n",
       "      <td>...</td>\n",
       "      <td>...</td>\n",
       "      <td>...</td>\n",
       "    </tr>\n",
       "    <tr>\n",
       "      <th>1355</th>\n",
       "      <td>1.167900</td>\n",
       "      <td>45.373746</td>\n",
       "      <td>0.352768</td>\n",
       "      <td>-39.615112</td>\n",
       "      <td>-73.198518</td>\n",
       "    </tr>\n",
       "    <tr>\n",
       "      <th>1356</th>\n",
       "      <td>1.054908</td>\n",
       "      <td>28.705555</td>\n",
       "      <td>0.313675</td>\n",
       "      <td>-39.663321</td>\n",
       "      <td>-73.166174</td>\n",
       "    </tr>\n",
       "    <tr>\n",
       "      <th>1357</th>\n",
       "      <td>0.000000</td>\n",
       "      <td>35.755171</td>\n",
       "      <td>0.306458</td>\n",
       "      <td>-39.556847</td>\n",
       "      <td>-73.134727</td>\n",
       "    </tr>\n",
       "    <tr>\n",
       "      <th>1358</th>\n",
       "      <td>0.000000</td>\n",
       "      <td>40.502730</td>\n",
       "      <td>0.335510</td>\n",
       "      <td>-39.460378</td>\n",
       "      <td>-73.158058</td>\n",
       "    </tr>\n",
       "    <tr>\n",
       "      <th>1359</th>\n",
       "      <td>0.014927</td>\n",
       "      <td>36.260335</td>\n",
       "      <td>0.438995</td>\n",
       "      <td>-39.661098</td>\n",
       "      <td>-72.557143</td>\n",
       "    </tr>\n",
       "  </tbody>\n",
       "</table>\n",
       "<p>1351 rows × 5 columns</p>\n",
       "</div>"
      ],
      "text/plain": [
       "             PP      slope  valor_humedad_suelo1    Latitud   Longitud\n",
       "0     71.563169  23.981049              0.438995 -39.597580 -72.260578\n",
       "1     71.563169  26.626618              0.438995 -39.598738 -72.254661\n",
       "2     71.563169  28.545852              0.438995 -39.582146 -72.258995\n",
       "3     71.563169  28.545852              0.438995 -39.580483 -72.272591\n",
       "4      7.532796  35.594937              0.438187 -39.561471 -72.286932\n",
       "...         ...        ...                   ...        ...        ...\n",
       "1355   1.167900  45.373746              0.352768 -39.615112 -73.198518\n",
       "1356   1.054908  28.705555              0.313675 -39.663321 -73.166174\n",
       "1357   0.000000  35.755171              0.306458 -39.556847 -73.134727\n",
       "1358   0.000000  40.502730              0.335510 -39.460378 -73.158058\n",
       "1359   0.014927  36.260335              0.438995 -39.661098 -72.557143\n",
       "\n",
       "[1351 rows x 5 columns]"
      ]
     },
     "execution_count": 66,
     "metadata": {},
     "output_type": "execute_result"
    }
   ],
   "source": [
    "new0"
   ]
  },
  {
   "cell_type": "code",
   "execution_count": 67,
   "metadata": {},
   "outputs": [],
   "source": [
    "data_0 = pd.merge(new0, data_0, on=['Latitud', 'Longitud'], how='inner')\n",
    "data_1 = pd.merge(coso, data_1, on=['Latitud', 'Longitud'], how='inner')"
   ]
  },
  {
   "cell_type": "code",
   "execution_count": 68,
   "metadata": {},
   "outputs": [],
   "source": [
    "data_0 = data_0.drop(columns=['Unnamed: 0', 'Latitud', 'Longitud'])\n",
    "data_1 = data_1.drop(columns=['Unnamed: 0', 'Latitud', 'Longitud'])\n",
    "data_0['Valor'] = 0\n",
    "data_1['Valor'] = 1"
   ]
  },
  {
   "cell_type": "code",
   "execution_count": 73,
   "metadata": {},
   "outputs": [],
   "source": [
    "final_db = pd.read_csv('final_db.csv')\n",
    "final_db = final_db.drop(columns='Unnamed: 0')"
   ]
  },
  {
   "cell_type": "code",
   "execution_count": 70,
   "metadata": {},
   "outputs": [],
   "source": [
    "def comparar_columnas(df1, df2):\n",
    "    # Obtener los nombres de las columnas en cada DataFrame\n",
    "    columnas_df1 = set(df1.columns)\n",
    "    columnas_df2 = set(df2.columns)\n",
    "    \n",
    "    # Encontrar columnas que están en df1 pero no en df2\n",
    "    solo_en_df1 = columnas_df1 - columnas_df2\n",
    "    \n",
    "    # Encontrar columnas que están en df2 pero no en df1\n",
    "    solo_en_df2 = columnas_df2 - columnas_df1\n",
    "    \n",
    "    # Imprimir los resultados\n",
    "    if solo_en_df1:\n",
    "        print(\"Columnas en df1 pero no en df2:\")\n",
    "        for columna in solo_en_df1:\n",
    "            print(columna)\n",
    "    else:\n",
    "        print(\"Todas las columnas de df1 están en df2.\")\n",
    "    \n",
    "    if solo_en_df2:\n",
    "        print(\"Columnas en df2 pero no en df1:\")\n",
    "        for columna in solo_en_df2:\n",
    "            print(columna)\n",
    "    else:\n",
    "        print(\"Todas las columnas de df2 están en df1.\")"
   ]
  },
  {
   "cell_type": "code",
   "execution_count": 74,
   "metadata": {},
   "outputs": [
    {
     "name": "stdout",
     "output_type": "stream",
     "text": [
      "Todas las columnas de df1 están en df2.\n",
      "Todas las columnas de df2 están en df1.\n"
     ]
    }
   ],
   "source": [
    "comparar_columnas(final_db,data_0)"
   ]
  },
  {
   "cell_type": "code",
   "execution_count": 75,
   "metadata": {},
   "outputs": [
    {
     "name": "stdout",
     "output_type": "stream",
     "text": [
      "Todas las columnas de df1 están en df2.\n",
      "Todas las columnas de df2 están en df1.\n"
     ]
    }
   ],
   "source": [
    "comparar_columnas(final_db,data_1)"
   ]
  },
  {
   "cell_type": "code",
   "execution_count": 80,
   "metadata": {},
   "outputs": [],
   "source": [
    "final = pd.concat([final_db, data_0])\n",
    "final = pd.concat([final, data_1])"
   ]
  },
  {
   "cell_type": "code",
   "execution_count": 83,
   "metadata": {},
   "outputs": [],
   "source": [
    "final = final.dropna()"
   ]
  },
  {
   "cell_type": "code",
   "execution_count": 84,
   "metadata": {},
   "outputs": [],
   "source": [
    "final_x = final.drop(columns='Valor')\n",
    "final_y = final.Valor"
   ]
  },
  {
   "cell_type": "code",
   "execution_count": 86,
   "metadata": {},
   "outputs": [],
   "source": [
    "import pandas as pd\n",
    "import numpy as np\n",
    "from sklearn.tree import DecisionTreeClassifier\n",
    "from sklearn.ensemble import RandomForestClassifier\n",
    "from xgboost import XGBClassifier\n",
    "from sklearn.model_selection import train_test_split\n",
    "\n",
    "def cart_feature_selection(df, target_column, n_features=5):\n",
    "    X = df.drop(target_column, axis=1)\n",
    "    y = df[target_column]\n",
    "    \n",
    "    X_train, X_test, y_train, y_test = train_test_split(X, y, test_size=0.2, random_state=42)\n",
    "    \n",
    "    cart = RandomForestClassifier(random_state=42)\n",
    "    #cart = XGBClassifier(random_state=42)\n",
    "    cart.fit(X_train, y_train)\n",
    "    \n",
    "    feature_importance = pd.DataFrame({\n",
    "        'feature': X.columns,\n",
    "        'importance': cart.feature_importances_\n",
    "    }).sort_values('importance', ascending=False)\n",
    "    \n",
    "    selected_features = feature_importance['feature'][:n_features].tolist()\n",
    "    \n",
    "    return selected_features\n"
   ]
  },
  {
   "cell_type": "code",
   "execution_count": 90,
   "metadata": {},
   "outputs": [],
   "source": [
    "cart_features = cart_feature_selection(final, 'Valor', n_features=50)"
   ]
  },
  {
   "cell_type": "code",
   "execution_count": 91,
   "metadata": {},
   "outputs": [],
   "source": [
    "X = final[cart_features]\n",
    "y = final.Valor"
   ]
  },
  {
   "cell_type": "code",
   "execution_count": 92,
   "metadata": {},
   "outputs": [
    {
     "name": "stdout",
     "output_type": "stream",
     "text": [
      "Numero de entrenamiendo: (2518, 50), Numero de test: (630, 50)\n",
      "Fitting 5 folds for each of 50 candidates, totalling 250 fits\n"
     ]
    }
   ],
   "source": [
    "from sklearn.model_selection import train_test_split\n",
    "from sklearn.model_selection import RandomizedSearchCV\n",
    "from sklearn.metrics import accuracy_score, f1_score\n",
    "from xgboost import XGBClassifier\n",
    "\n",
    "param_grid = {\n",
    "    'max_depth': [3, 5, 7, 10],\n",
    "    'learning_rate': [0.01, 0.1, 0.2, 0.3],\n",
    "    'n_estimators': [100, 200, 300, 500],\n",
    "    'subsample': [0.6, 0.8, 1.0],\n",
    "    'colsample_bytree': [0.6, 0.8, 1.0],\n",
    "    'gamma': [0, 0.1, 0.2, 0.3],\n",
    "    'reg_alpha': [0, 0.1, 0.5, 1.0],\n",
    "    'reg_lambda': [0, 1.0, 10.0]\n",
    "}\n",
    "\n",
    "X_train, X_test, y_train, y_test = train_test_split(X, y, test_size=0.2)\n",
    "print(f'Numero de entrenamiendo: {X_train.shape}, Numero de test: {X_test.shape}')\n",
    "model = XGBClassifier()\n",
    "random_search = RandomizedSearchCV(model, param_distributions=param_grid, n_iter=50, scoring='accuracy', cv=5, verbose=1, random_state=42)\n",
    "random_search.fit(X_train, y_train)\n",
    "best_model = random_search.best_estimator_\n",
    "y_pred = best_model.predict(X_test)\n",
    "acc = accuracy_score(y_true=y_test, y_pred=y_pred)\n",
    "print(f'Precisión de {acc*100}')"
   ]
  },
  {
   "cell_type": "code",
   "execution_count": null,
   "metadata": {},
   "outputs": [],
   "source": []
  }
 ],
 "metadata": {
  "kernelspec": {
   "display_name": "geotiff",
   "language": "python",
   "name": "python3"
  },
  "language_info": {
   "codemirror_mode": {
    "name": "ipython",
    "version": 3
   },
   "file_extension": ".py",
   "mimetype": "text/x-python",
   "name": "python",
   "nbconvert_exporter": "python",
   "pygments_lexer": "ipython3",
   "version": "3.8.0"
  }
 },
 "nbformat": 4,
 "nbformat_minor": 2
}
