{
 "cells": [
  {
   "cell_type": "code",
   "execution_count": 3,
   "metadata": {},
   "outputs": [],
   "source": [
    "import pandas as pd"
   ]
  },
  {
   "cell_type": "code",
   "execution_count": 4,
   "metadata": {},
   "outputs": [],
   "source": [
    "coso = pd.read_csv('coso.csv')\n",
    "new0 = pd.read_csv('New_DB_new0.csv')"
   ]
  },
  {
   "cell_type": "code",
   "execution_count": 5,
   "metadata": {},
   "outputs": [],
   "source": [
    "new0 = new0[['PP', 'slope', 'valor_humedad_suelo1', 'Latitud', 'Longitud']].dropna()\n",
    "coso = coso[['PP', 'slope', 'valor_humedad_suelo1', 'Latitud', 'Longitud']].dropna()"
   ]
  },
  {
   "cell_type": "code",
   "execution_count": 6,
   "metadata": {},
   "outputs": [],
   "source": [
    "data_0 = pd.read_csv('xterrae_data_0').dropna()\n",
    "data_1 = pd.read_csv('xterrae_data_1').dropna()"
   ]
  },
  {
   "cell_type": "code",
   "execution_count": 7,
   "metadata": {},
   "outputs": [
    {
     "data": {
      "text/html": [
       "<div>\n",
       "<style scoped>\n",
       "    .dataframe tbody tr th:only-of-type {\n",
       "        vertical-align: middle;\n",
       "    }\n",
       "\n",
       "    .dataframe tbody tr th {\n",
       "        vertical-align: top;\n",
       "    }\n",
       "\n",
       "    .dataframe thead th {\n",
       "        text-align: right;\n",
       "    }\n",
       "</style>\n",
       "<table border=\"1\" class=\"dataframe\">\n",
       "  <thead>\n",
       "    <tr style=\"text-align: right;\">\n",
       "      <th></th>\n",
       "      <th>PP</th>\n",
       "      <th>slope</th>\n",
       "      <th>valor_humedad_suelo1</th>\n",
       "      <th>Latitud</th>\n",
       "      <th>Longitud</th>\n",
       "    </tr>\n",
       "  </thead>\n",
       "  <tbody>\n",
       "    <tr>\n",
       "      <th>0</th>\n",
       "      <td>71.563169</td>\n",
       "      <td>23.981049</td>\n",
       "      <td>0.438995</td>\n",
       "      <td>-39.597580</td>\n",
       "      <td>-72.260578</td>\n",
       "    </tr>\n",
       "    <tr>\n",
       "      <th>1</th>\n",
       "      <td>71.563169</td>\n",
       "      <td>26.626618</td>\n",
       "      <td>0.438995</td>\n",
       "      <td>-39.598738</td>\n",
       "      <td>-72.254661</td>\n",
       "    </tr>\n",
       "    <tr>\n",
       "      <th>2</th>\n",
       "      <td>71.563169</td>\n",
       "      <td>28.545852</td>\n",
       "      <td>0.438995</td>\n",
       "      <td>-39.582146</td>\n",
       "      <td>-72.258995</td>\n",
       "    </tr>\n",
       "    <tr>\n",
       "      <th>3</th>\n",
       "      <td>71.563169</td>\n",
       "      <td>28.545852</td>\n",
       "      <td>0.438995</td>\n",
       "      <td>-39.580483</td>\n",
       "      <td>-72.272591</td>\n",
       "    </tr>\n",
       "    <tr>\n",
       "      <th>4</th>\n",
       "      <td>7.532796</td>\n",
       "      <td>35.594937</td>\n",
       "      <td>0.438187</td>\n",
       "      <td>-39.561471</td>\n",
       "      <td>-72.286932</td>\n",
       "    </tr>\n",
       "    <tr>\n",
       "      <th>...</th>\n",
       "      <td>...</td>\n",
       "      <td>...</td>\n",
       "      <td>...</td>\n",
       "      <td>...</td>\n",
       "      <td>...</td>\n",
       "    </tr>\n",
       "    <tr>\n",
       "      <th>1355</th>\n",
       "      <td>1.167900</td>\n",
       "      <td>45.373746</td>\n",
       "      <td>0.352768</td>\n",
       "      <td>-39.615112</td>\n",
       "      <td>-73.198518</td>\n",
       "    </tr>\n",
       "    <tr>\n",
       "      <th>1356</th>\n",
       "      <td>1.054908</td>\n",
       "      <td>28.705555</td>\n",
       "      <td>0.313675</td>\n",
       "      <td>-39.663321</td>\n",
       "      <td>-73.166174</td>\n",
       "    </tr>\n",
       "    <tr>\n",
       "      <th>1357</th>\n",
       "      <td>0.000000</td>\n",
       "      <td>35.755171</td>\n",
       "      <td>0.306458</td>\n",
       "      <td>-39.556847</td>\n",
       "      <td>-73.134727</td>\n",
       "    </tr>\n",
       "    <tr>\n",
       "      <th>1358</th>\n",
       "      <td>0.000000</td>\n",
       "      <td>40.502730</td>\n",
       "      <td>0.335510</td>\n",
       "      <td>-39.460378</td>\n",
       "      <td>-73.158058</td>\n",
       "    </tr>\n",
       "    <tr>\n",
       "      <th>1359</th>\n",
       "      <td>0.014927</td>\n",
       "      <td>36.260335</td>\n",
       "      <td>0.438995</td>\n",
       "      <td>-39.661098</td>\n",
       "      <td>-72.557143</td>\n",
       "    </tr>\n",
       "  </tbody>\n",
       "</table>\n",
       "<p>1351 rows × 5 columns</p>\n",
       "</div>"
      ],
      "text/plain": [
       "             PP      slope  valor_humedad_suelo1    Latitud   Longitud\n",
       "0     71.563169  23.981049              0.438995 -39.597580 -72.260578\n",
       "1     71.563169  26.626618              0.438995 -39.598738 -72.254661\n",
       "2     71.563169  28.545852              0.438995 -39.582146 -72.258995\n",
       "3     71.563169  28.545852              0.438995 -39.580483 -72.272591\n",
       "4      7.532796  35.594937              0.438187 -39.561471 -72.286932\n",
       "...         ...        ...                   ...        ...        ...\n",
       "1355   1.167900  45.373746              0.352768 -39.615112 -73.198518\n",
       "1356   1.054908  28.705555              0.313675 -39.663321 -73.166174\n",
       "1357   0.000000  35.755171              0.306458 -39.556847 -73.134727\n",
       "1358   0.000000  40.502730              0.335510 -39.460378 -73.158058\n",
       "1359   0.014927  36.260335              0.438995 -39.661098 -72.557143\n",
       "\n",
       "[1351 rows x 5 columns]"
      ]
     },
     "execution_count": 7,
     "metadata": {},
     "output_type": "execute_result"
    }
   ],
   "source": [
    "new0"
   ]
  },
  {
   "cell_type": "code",
   "execution_count": 8,
   "metadata": {},
   "outputs": [],
   "source": [
    "data_0 = pd.merge(new0, data_0, on=['Latitud', 'Longitud'], how='inner')\n",
    "data_1 = pd.merge(coso, data_1, on=['Latitud', 'Longitud'], how='inner')"
   ]
  },
  {
   "cell_type": "code",
   "execution_count": 9,
   "metadata": {},
   "outputs": [],
   "source": [
    "data_0 = data_0.drop(columns=['Unnamed: 0', 'Latitud', 'Longitud'])\n",
    "data_1 = data_1.drop(columns=['Unnamed: 0', 'Latitud', 'Longitud'])\n",
    "data_0['Valor'] = 0\n",
    "data_1['Valor'] = 1"
   ]
  },
  {
   "cell_type": "code",
   "execution_count": 10,
   "metadata": {},
   "outputs": [],
   "source": [
    "final_db = pd.read_csv('final_db.csv')\n",
    "final_db = final_db.drop(columns='Unnamed: 0')"
   ]
  },
  {
   "cell_type": "code",
   "execution_count": 11,
   "metadata": {},
   "outputs": [],
   "source": [
    "def comparar_columnas(df1, df2):\n",
    "    # Obtener los nombres de las columnas en cada DataFrame\n",
    "    columnas_df1 = set(df1.columns)\n",
    "    columnas_df2 = set(df2.columns)\n",
    "    \n",
    "    # Encontrar columnas que están en df1 pero no en df2\n",
    "    solo_en_df1 = columnas_df1 - columnas_df2\n",
    "    \n",
    "    # Encontrar columnas que están en df2 pero no en df1\n",
    "    solo_en_df2 = columnas_df2 - columnas_df1\n",
    "    \n",
    "    # Imprimir los resultados\n",
    "    if solo_en_df1:\n",
    "        print(\"Columnas en df1 pero no en df2:\")\n",
    "        for columna in solo_en_df1:\n",
    "            print(columna)\n",
    "    else:\n",
    "        print(\"Todas las columnas de df1 están en df2.\")\n",
    "    \n",
    "    if solo_en_df2:\n",
    "        print(\"Columnas en df2 pero no en df1:\")\n",
    "        for columna in solo_en_df2:\n",
    "            print(columna)\n",
    "    else:\n",
    "        print(\"Todas las columnas de df2 están en df1.\")"
   ]
  },
  {
   "cell_type": "code",
   "execution_count": 12,
   "metadata": {},
   "outputs": [
    {
     "name": "stdout",
     "output_type": "stream",
     "text": [
      "Todas las columnas de df1 están en df2.\n",
      "Todas las columnas de df2 están en df1.\n"
     ]
    }
   ],
   "source": [
    "comparar_columnas(final_db,data_0)"
   ]
  },
  {
   "cell_type": "code",
   "execution_count": 13,
   "metadata": {},
   "outputs": [
    {
     "name": "stdout",
     "output_type": "stream",
     "text": [
      "Todas las columnas de df1 están en df2.\n",
      "Todas las columnas de df2 están en df1.\n"
     ]
    }
   ],
   "source": [
    "comparar_columnas(final_db,data_1)"
   ]
  },
  {
   "cell_type": "code",
   "execution_count": 14,
   "metadata": {},
   "outputs": [],
   "source": [
    "final = pd.concat([final_db, data_0])\n",
    "final = pd.concat([final, data_1])"
   ]
  },
  {
   "cell_type": "code",
   "execution_count": 15,
   "metadata": {},
   "outputs": [],
   "source": [
    "final = final.dropna()"
   ]
  },
  {
   "cell_type": "code",
   "execution_count": 16,
   "metadata": {},
   "outputs": [],
   "source": [
    "final_x = final.drop(columns='Valor')\n",
    "final_y = final.Valor"
   ]
  },
  {
   "cell_type": "code",
   "execution_count": 17,
   "metadata": {},
   "outputs": [
    {
     "name": "stdout",
     "output_type": "stream",
     "text": [
      "   Umbral  Caracteristicas eliminadas\n",
      "0    0.10                         136\n",
      "1    0.20                         135\n",
      "2    0.30                         131\n",
      "3    0.40                         130\n",
      "4    0.50                         128\n",
      "5    0.60                         128\n",
      "6    0.70                         122\n",
      "7    0.80                         113\n",
      "8    0.90                          91\n",
      "9    0.99                          38\n"
     ]
    }
   ],
   "source": [
    "import pandas as pd\n",
    "import numpy as np\n",
    "\n",
    "def eliminar_caracteristicas(df, umbral):\n",
    "    \"\"\"\n",
    "    Elimina características de un DataFrame basado en la correlación.\n",
    "    \n",
    "    Args:\n",
    "    - df (pd.DataFrame): DataFrame con las características.\n",
    "    - umbral (float): Umbral de correlación para eliminar características.\n",
    "    \n",
    "    Returns:\n",
    "    - pd.DataFrame: DataFrame con las características restantes.\n",
    "    - int: Número de características eliminadas.\n",
    "    \"\"\"\n",
    "    # Calcular la matriz de correlación\n",
    "    correlaciones = df.corr().abs()\n",
    "    \n",
    "    # Crear una máscara para evitar considerar la diagonal principal\n",
    "    mask = np.triu(np.ones_like(correlaciones, dtype=bool), k=1)\n",
    "    \n",
    "    # Identificar pares de características con alta correlación\n",
    "    to_drop = set()\n",
    "    for i in range(len(correlaciones.columns)):\n",
    "        for j in range(i):\n",
    "            if correlaciones.iloc[i, j] > umbral:\n",
    "                colname = correlaciones.columns[i]\n",
    "                to_drop.add(colname)\n",
    "    \n",
    "    # Eliminar las características\n",
    "    df_reducido = df.drop(columns=to_drop)\n",
    "    \n",
    "    # Número de características eliminadas\n",
    "    num_eliminadas = len(to_drop)\n",
    "    \n",
    "    return df_reducido, num_eliminadas\n",
    "\n",
    "def prueba_umbral(df, umbrales):\n",
    "    \"\"\"\n",
    "    Prueba diferentes umbrales y guarda el número de características eliminadas.\n",
    "    \n",
    "    Args:\n",
    "    - df (pd.DataFrame): DataFrame con las características.\n",
    "    - umbrales (list): Lista de umbrales para probar.\n",
    "    \n",
    "    Returns:\n",
    "    - pd.DataFrame: DataFrame con los resultados de la prueba.\n",
    "    \"\"\"\n",
    "    resultados = []\n",
    "    \n",
    "    for umbral in umbrales:\n",
    "        df_reducido, num_eliminadas = eliminar_caracteristicas(df, umbral)\n",
    "        resultados.append({'Umbral': umbral, 'Caracteristicas eliminadas': num_eliminadas})\n",
    "    \n",
    "    return pd.DataFrame(resultados)\n",
    "\n",
    "# Ejemplo de uso:\n",
    "# df = pd.DataFrame(...)  # Reemplaza con tu DataFrame real\n",
    "umbrales = [0.1, 0.2, 0.3, 0.4, 0.5, 0.6, 0.7, 0.8, 0.9, 0.99]\n",
    "resultados = prueba_umbral(final, umbrales)\n",
    "\n",
    "print(resultados)"
   ]
  },
  {
   "cell_type": "code",
   "execution_count": 18,
   "metadata": {},
   "outputs": [],
   "source": [
    "df_reducido, num_eliminadas = eliminar_caracteristicas(final, 0.9)"
   ]
  },
  {
   "cell_type": "code",
   "execution_count": 19,
   "metadata": {},
   "outputs": [],
   "source": [
    "final = df_reducido"
   ]
  },
  {
   "cell_type": "code",
   "execution_count": 20,
   "metadata": {},
   "outputs": [],
   "source": [
    "import pandas as pd\n",
    "import numpy as np\n",
    "from sklearn.tree import DecisionTreeClassifier\n",
    "from sklearn.ensemble import RandomForestClassifier\n",
    "from xgboost import XGBClassifier\n",
    "from sklearn.model_selection import train_test_split\n",
    "\n",
    "def cart_feature_selection(df, target_column, n_features=5):\n",
    "    X = df.drop(target_column, axis=1)\n",
    "    y = df[target_column]\n",
    "    \n",
    "    X_train, X_test, y_train, y_test = train_test_split(X, y, test_size=0.2, random_state=42)\n",
    "    \n",
    "    cart = RandomForestClassifier(random_state=42)\n",
    "    #cart = XGBClassifier(random_state=42)\n",
    "    cart.fit(X_train, y_train)\n",
    "    \n",
    "    feature_importance = pd.DataFrame({\n",
    "        'feature': X.columns,\n",
    "        'importance': cart.feature_importances_\n",
    "    }).sort_values('importance', ascending=False)\n",
    "    \n",
    "    selected_features = feature_importance['feature'][:n_features].tolist()\n",
    "    \n",
    "    return selected_features\n"
   ]
  },
  {
   "cell_type": "code",
   "execution_count": 21,
   "metadata": {},
   "outputs": [
    {
     "data": {
      "text/plain": [
       "['slope',\n",
       " 'valor_humedad_suelo1',\n",
       " 'PP',\n",
       " 'ksat_60-100cm.tif',\n",
       " 'PIRange_Clay.15-30cm.tif',\n",
       " 'PIRange_Clay.0-5cm.tif',\n",
       " 'n_60-100cm.tif',\n",
       " 'alpha.0-5cm.tif',\n",
       " 'n_15-30cm.tif',\n",
       " 'PIRange_Sand.0-5cm.tif',\n",
       " 'PIRange_Clay.5-15cm.tif',\n",
       " 'PIRange_Bulkd.5-15cm.tif',\n",
       " 'PIRange_Bulkd.100-200cm.tif',\n",
       " 'n_5-15cm.tif',\n",
       " 'PIRange_Sand.15-30cm.tif',\n",
       " 'ksat_100-200cm.tif',\n",
       " 'PIRange_Sand.100-200cm.tif',\n",
       " 'ksat_15-30cm.tif',\n",
       " 'ksat_5-15cm.tif',\n",
       " 'theta_s_5-15cm.tif',\n",
       " 'theta_s_100-200cm.tif',\n",
       " 'theta_s_15-30cm.tif',\n",
       " 'FC.5-15cm.tif',\n",
       " 'PIRange_Bulkd.0-5cm.tif',\n",
       " 'AvMoist.0-5cm.tif',\n",
       " 'ksat_0-5cm.tif',\n",
       " 'FC.100-200cm.tif',\n",
       " 'Bulkd.5-15cm.tif',\n",
       " 'Bulkd.100-200cm.tif',\n",
       " 'FC.0-5cm.tif']"
      ]
     },
     "execution_count": 21,
     "metadata": {},
     "output_type": "execute_result"
    }
   ],
   "source": [
    "cart_features = cart_feature_selection(final, 'Valor', n_features=30)\n",
    "cart_features"
   ]
  },
  {
   "cell_type": "code",
   "execution_count": 22,
   "metadata": {},
   "outputs": [],
   "source": [
    "X = final[cart_features]\n",
    "y = final.Valor"
   ]
  },
  {
   "cell_type": "code",
   "execution_count": 23,
   "metadata": {},
   "outputs": [
    {
     "name": "stdout",
     "output_type": "stream",
     "text": [
      "Numero de entrenamiendo: (2518, 30), Numero de test: (630, 30)\n",
      "Fitting 5 folds for each of 50 candidates, totalling 250 fits\n",
      "Precisión de 85.87301587301587\n"
     ]
    }
   ],
   "source": [
    "from sklearn.model_selection import train_test_split\n",
    "from sklearn.model_selection import RandomizedSearchCV\n",
    "from sklearn.metrics import accuracy_score, f1_score\n",
    "from xgboost import XGBClassifier\n",
    "\n",
    "param_grid = {\n",
    "    'max_depth': [3, 5, 7, 10],\n",
    "    'learning_rate': [0.01, 0.1, 0.2, 0.3],\n",
    "    'n_estimators': [100, 200, 300, 500],\n",
    "    'subsample': [0.6, 0.8, 1.0],\n",
    "    'colsample_bytree': [0.6, 0.8, 1.0],\n",
    "    'gamma': [0, 0.1, 0.2, 0.3],\n",
    "    'reg_alpha': [0, 0.1, 0.5, 1.0],\n",
    "    'reg_lambda': [0, 1.0, 10.0]\n",
    "}\n",
    "\n",
    "X_train, X_test, y_train, y_test = train_test_split(X, y, test_size=0.2)\n",
    "print(f'Numero de entrenamiendo: {X_train.shape}, Numero de test: {X_test.shape}')\n",
    "model = XGBClassifier()\n",
    "random_search = RandomizedSearchCV(model, param_distributions=param_grid, n_iter=50, scoring='accuracy', cv=5, verbose=1, random_state=42)\n",
    "random_search.fit(X_train, y_train)\n",
    "best_model = random_search.best_estimator_\n",
    "y_pred = best_model.predict(X_test)\n",
    "acc = accuracy_score(y_true=y_test, y_pred=y_pred)\n",
    "print(f'Precisión de {acc*100}')"
   ]
  },
  {
   "cell_type": "code",
   "execution_count": 24,
   "metadata": {},
   "outputs": [
    {
     "data": {
      "image/png": "[encoded data removed]",
      "text/plain": [
       "<Figure size 640x480 with 2 Axes>"
      ]
     },
     "metadata": {},
     "output_type": "display_data"
    }
   ],
   "source": [
    "import matplotlib.pyplot as plt\n",
    "from sklearn.datasets import make_classification\n",
    "from sklearn.metrics import confusion_matrix, ConfusionMatrixDisplay\n",
    "from sklearn.model_selection import train_test_split\n",
    "from sklearn.svm import SVC\n",
    "predictions = best_model.predict(X_test)\n",
    "cm = confusion_matrix(y_test, predictions)\n",
    "disp = ConfusionMatrixDisplay(confusion_matrix=cm)\n",
    "disp.plot()\n",
    "plt.show()"
   ]
  },
  {
   "cell_type": "code",
   "execution_count": 25,
   "metadata": {},
   "outputs": [
    {
     "name": "stderr",
     "output_type": "stream",
     "text": [
      "C:\\Users\\Manuel\\AppData\\Local\\Temp\\ipykernel_11936\\1511315089.py:2: SettingWithCopyWarning: \n",
      "A value is trying to be set on a copy of a slice from a DataFrame.\n",
      "Try using .loc[row_indexer,col_indexer] = value instead\n",
      "\n",
      "See the caveats in the documentation: https://pandas.pydata.org/pandas-docs/stable/user_guide/indexing.html#returning-a-view-versus-a-copy\n",
      "  data['Valor'] = final.Valor\n"
     ]
    }
   ],
   "source": [
    "data = final[cart_features]\n",
    "data['Valor'] = final.Valor\n",
    "data_aux_1 = data[data.Valor == 1]\n",
    "data_aux_0 = data[data.Valor == 0]\n",
    "data_aux_0 = data_aux_0.drop(columns='Valor')\n",
    "data_aux_1 = data_aux_1.drop(columns='Valor')"
   ]
  },
  {
   "cell_type": "code",
   "execution_count": 26,
   "metadata": {},
   "outputs": [
    {
     "name": "stdout",
     "output_type": "stream",
     "text": [
      "Predicted probabilities: [0.2 0.  0.2 ... 0.6 0.2 0.8]\n"
     ]
    }
   ],
   "source": [
    "import numpy as np\n",
    "from sklearn.tree import DecisionTreeClassifier\n",
    "\n",
    "class PUBagging:\n",
    "    def __init__(self, num_iterations=10, sample_ratio=1.0, random_state=42):\n",
    "        self.num_iterations = num_iterations\n",
    "        self.sample_ratio = sample_ratio\n",
    "        self.random_state = random_state\n",
    "        self.classifiers = []\n",
    "        self.probabilities = None\n",
    "\n",
    "    def fit(self, landslide_samples, unlabeled_samples):\n",
    "        np.random.seed(self.random_state)\n",
    "\n",
    "        if isinstance(landslide_samples, np.ndarray):\n",
    "            landslide_samples_array = landslide_samples\n",
    "        else:\n",
    "            landslide_samples_array = landslide_samples.values  # Convert to numpy array if it's a DataFrame\n",
    "\n",
    "        if isinstance(unlabeled_samples, np.ndarray):\n",
    "            unlabeled_samples_array = unlabeled_samples\n",
    "        else:\n",
    "            unlabeled_samples_array = unlabeled_samples.values  # Convert to numpy array if it's a DataFrame\n",
    "\n",
    "        num_samples = len(landslide_samples_array)\n",
    "        num_unlabeled = len(unlabeled_samples_array)\n",
    "\n",
    "        for _ in range(self.num_iterations):\n",
    "            # Step 1: Sample equal number of unlabeled samples as non-landslide samples\n",
    "            non_landslide_indices = np.random.choice(num_unlabeled, size=int(num_samples * self.sample_ratio), replace=False)\n",
    "            non_landslide_samples = unlabeled_samples_array[non_landslide_indices]\n",
    "\n",
    "            # Combine with landslide samples to form training set\n",
    "            X_train = np.vstack((landslide_samples_array, non_landslide_samples))\n",
    "            y_train = np.hstack((np.ones(num_samples), np.zeros(len(non_landslide_samples))))\n",
    "\n",
    "            # Step 2: Train decision tree classifier\n",
    "            clf = DecisionTreeClassifier(random_state=self.random_state)\n",
    "            clf.fit(X_train, y_train)\n",
    "            self.classifiers.append(clf)\n",
    "\n",
    "            # Step 3: Predict probability of being landslide for unlabeled samples\n",
    "            prob_landslide = clf.predict_proba(unlabeled_samples_array)[:, 1]\n",
    "\n",
    "            if self.probabilities is None:\n",
    "                self.probabilities = prob_landslide\n",
    "            else:\n",
    "                self.probabilities += prob_landslide\n",
    "\n",
    "        # Step 4: Average probabilities over iterations\n",
    "        self.probabilities /= self.num_iterations\n",
    "\n",
    "    def predict_proba(self, unlabeled_samples):\n",
    "        if isinstance(unlabeled_samples, np.ndarray):\n",
    "            return self.probabilities\n",
    "        else:\n",
    "            return self.probabilities[:len(unlabeled_samples)]  # Return probabilities for original DataFrame\n",
    "\n",
    "# Example usage:\n",
    "if __name__ == '__main__':\n",
    "    import pandas as pd\n",
    "    \n",
    "    # Example data (replace with your own data)\n",
    "    landslide_samples = data_aux_1# Example landslide samples as DataFrame\n",
    "    unlabeled_samples = data_aux_0# Example unlabeled samples as DataFrame\n",
    "\n",
    "    # Create PU Bagging instance\n",
    "    pu_bagging = PUBagging(num_iterations=5, sample_ratio=0.4, random_state=42)\n",
    "\n",
    "    # Fit the model\n",
    "    pu_bagging.fit(landslide_samples, unlabeled_samples)\n",
    "\n",
    "    # Predict probabilities for unlabeled samples\n",
    "    probabilities = pu_bagging.predict_proba(unlabeled_samples)\n",
    "    print(\"Predicted probabilities:\", probabilities)"
   ]
  },
  {
   "cell_type": "code",
   "execution_count": 27,
   "metadata": {},
   "outputs": [
    {
     "name": "stdout",
     "output_type": "stream",
     "text": [
      "Muestras no deslizamiento seleccionadas:\n",
      "          slope  valor_humedad_suelo1          PP  ksat_60-100cm.tif  \\\n",
      "0     32.357300              0.421875   13.532034         282.394012   \n",
      "1     32.357300              0.438995  238.139918         282.394012   \n",
      "2     37.497812              0.520004   32.059045         144.182007   \n",
      "3     36.717389              0.478973    0.000000          90.413002   \n",
      "4     60.517945              0.438095    2.191190         343.306000   \n",
      "...         ...                   ...         ...                ...   \n",
      "1162  24.327043              0.416611    0.674241         279.865997   \n",
      "1163  24.327043              0.416611    0.674241         261.084015   \n",
      "1164  24.641348              0.313675    1.054908         252.315994   \n",
      "1165  45.373746              0.352768    1.167900         141.238998   \n",
      "1167  40.502730              0.335510    0.000000         119.821999   \n",
      "\n",
      "      PIRange_Clay.15-30cm.tif  PIRange_Clay.0-5cm.tif  n_60-100cm.tif  \\\n",
      "0                    22.490000               22.358000           1.446   \n",
      "1                    22.490000               22.358000           1.446   \n",
      "2                    25.268002               23.513000           1.372   \n",
      "3                    25.813000               25.056000           1.334   \n",
      "4                    18.743000               21.844999           1.510   \n",
      "...                        ...                     ...             ...   \n",
      "1162                 25.160000               26.663998           1.436   \n",
      "1163                 25.082001               26.491001           1.430   \n",
      "1164                 24.950001               28.490000           1.402   \n",
      "1165                 25.712999               24.723999           1.373   \n",
      "1167                 27.098000               28.064001           1.389   \n",
      "\n",
      "      alpha.0-5cm.tif  n_15-30cm.tif  PIRange_Sand.0-5cm.tif  ...  \\\n",
      "0               0.427          1.375               36.184998  ...   \n",
      "1               0.427          1.375               36.184998  ...   \n",
      "2               0.293          1.361               36.636002  ...   \n",
      "3               0.129          1.374               34.499001  ...   \n",
      "4               0.429          1.508               36.883003  ...   \n",
      "...               ...            ...                     ...  ...   \n",
      "1162            0.181          1.430               36.374001  ...   \n",
      "1163            0.194          1.424               36.174000  ...   \n",
      "1164            0.202          1.421               36.351997  ...   \n",
      "1165            0.266          1.385               39.068001  ...   \n",
      "1167            0.329          1.397               38.124001  ...   \n",
      "\n",
      "      theta_s_100-200cm.tif  theta_s_15-30cm.tif  FC.5-15cm.tif  \\\n",
      "0                     0.568                0.631          0.269   \n",
      "1                     0.568                0.631          0.269   \n",
      "2                     0.510                0.623          0.409   \n",
      "3                     0.579                0.613          0.457   \n",
      "4                     0.551                0.523          0.274   \n",
      "...                     ...                  ...            ...   \n",
      "1162                  0.592                0.604          0.436   \n",
      "1163                  0.581                0.600          0.423   \n",
      "1164                  0.585                0.571          0.418   \n",
      "1165                  0.536                0.583          0.373   \n",
      "1167                  0.544                0.574          0.394   \n",
      "\n",
      "      PIRange_Bulkd.0-5cm.tif  AvMoist.0-5cm.tif  ksat_0-5cm.tif  \\\n",
      "0                       0.609              0.221      303.553986   \n",
      "1                       0.609              0.221      303.553986   \n",
      "2                       0.595              0.263      371.622986   \n",
      "3                       0.589              0.264      166.621002   \n",
      "4                       0.659              0.177      275.221985   \n",
      "...                       ...                ...             ...   \n",
      "1162                    0.588              0.278      279.782013   \n",
      "1163                    0.588              0.279      284.890991   \n",
      "1164                    0.594              0.261      193.160004   \n",
      "1165                    0.625              0.248      212.824005   \n",
      "1167                    0.592              0.220      155.367004   \n",
      "\n",
      "      FC.100-200cm.tif  Bulkd.5-15cm.tif  Bulkd.100-200cm.tif  FC.0-5cm.tif  \n",
      "0                0.312             0.882                0.782         0.370  \n",
      "1                0.312             0.882                0.782         0.370  \n",
      "2                0.343             0.766                0.899         0.411  \n",
      "3                0.445             0.967                1.006         0.473  \n",
      "4                0.280             0.954                0.832         0.289  \n",
      "...                ...               ...                  ...           ...  \n",
      "1162             0.457             0.880                0.793         0.479  \n",
      "1163             0.445             0.876                0.799         0.470  \n",
      "1164             0.444             0.901                0.761         0.436  \n",
      "1165             0.388             1.061                0.923         0.419  \n",
      "1167             0.390             0.972                0.988         0.421  \n",
      "\n",
      "[1346 rows x 30 columns]\n"
     ]
    }
   ],
   "source": [
    "# Suponiendo que ya tienes las probabilidades predichas por pu_bagging.predict_proba(unlabeled_samples)\n",
    "\n",
    "# Umbral para seleccionar muestras no deslizamiento\n",
    "threshold = 0.5  # Puedes ajustar este umbral según tus necesidades\n",
    "\n",
    "# Filtrar muestras no deslizamiento por debajo del umbral\n",
    "non_landslide_indices = np.where(probabilities < threshold)[0]\n",
    "selected_non_landslide_samples = unlabeled_samples.iloc[non_landslide_indices]\n",
    "\n",
    "# Ejemplo de cómo podrías utilizar las muestras seleccionadas\n",
    "print(\"Muestras no deslizamiento seleccionadas:\")\n",
    "print(selected_non_landslide_samples)"
   ]
  },
  {
   "cell_type": "code",
   "execution_count": 28,
   "metadata": {},
   "outputs": [
    {
     "name": "stderr",
     "output_type": "stream",
     "text": [
      "C:\\Users\\Manuel\\AppData\\Local\\Temp\\ipykernel_11936\\38701351.py:1: SettingWithCopyWarning: \n",
      "A value is trying to be set on a copy of a slice from a DataFrame.\n",
      "Try using .loc[row_indexer,col_indexer] = value instead\n",
      "\n",
      "See the caveats in the documentation: https://pandas.pydata.org/pandas-docs/stable/user_guide/indexing.html#returning-a-view-versus-a-copy\n",
      "  selected_non_landslide_samples['Valor'] = 0\n"
     ]
    }
   ],
   "source": [
    "selected_non_landslide_samples['Valor'] = 0\n",
    "data_aux_1['Valor'] = 1\n",
    "\n",
    "data = pd.concat([data_aux_1, selected_non_landslide_samples])\n",
    "data_y = data['Valor']\n",
    "data = data.drop(columns=['Valor'])"
   ]
  },
  {
   "cell_type": "code",
   "execution_count": 29,
   "metadata": {},
   "outputs": [
    {
     "name": "stdout",
     "output_type": "stream",
     "text": [
      "Numero de entrenamiendo: (2371, 30), Numero de test: (593, 30)\n",
      "Fitting 5 folds for each of 50 candidates, totalling 250 fits\n",
      "Precisión de 87.52107925801012\n"
     ]
    }
   ],
   "source": [
    "from sklearn.model_selection import train_test_split\n",
    "from sklearn.model_selection import RandomizedSearchCV\n",
    "from sklearn.metrics import accuracy_score, f1_score\n",
    "from xgboost import XGBClassifier\n",
    "\n",
    "param_grid = {\n",
    "    'max_depth': [3, 5, 7, 10],\n",
    "    'learning_rate': [0.01, 0.1, 0.2, 0.3],\n",
    "    'n_estimators': [100, 200, 300, 500],\n",
    "    'subsample': [0.6, 0.8, 1.0],\n",
    "    'colsample_bytree': [0.6, 0.8, 1.0],\n",
    "    'gamma': [0, 0.1, 0.2, 0.3],\n",
    "    'reg_alpha': [0, 0.1, 0.5, 1.0],\n",
    "    'reg_lambda': [0, 1.0, 10.0]\n",
    "}\n",
    "\n",
    "X_train, X_test, y_train, y_test = train_test_split(data, data_y, test_size=0.2)\n",
    "print(f'Numero de entrenamiendo: {X_train.shape}, Numero de test: {X_test.shape}')\n",
    "model = XGBClassifier()\n",
    "random_search = RandomizedSearchCV(model, param_distributions=param_grid, n_iter=50, scoring='accuracy', cv=5, verbose=1, random_state=42)\n",
    "random_search.fit(X_train, y_train)\n",
    "best_model = random_search.best_estimator_\n",
    "y_pred = best_model.predict(X_test)\n",
    "acc = accuracy_score(y_true=y_test, y_pred=y_pred)\n",
    "print(f'Precisión de {acc*100}')"
   ]
  },
  {
   "cell_type": "code",
   "execution_count": 30,
   "metadata": {},
   "outputs": [],
   "source": [
    "import pandas as pd\n",
    "import numpy as np\n",
    "from sklearn.model_selection import cross_val_score\n",
    "from sklearn.ensemble import RandomForestClassifier\n",
    "from deap import creator, base, tools, algorithms\n",
    "\n",
    "def evaluar_cromosoma(individual, X, y, n_caracteristicas):\n",
    "    # Decodificar el cromosoma\n",
    "    selected_features = X.columns[np.array(individual, dtype=bool)]\n",
    "    \n",
    "    # Verificar restricciones\n",
    "    if len(selected_features) == 0:\n",
    "        return 1,  # Penalización máxima si no se selecciona ninguna característica\n",
    "    \n",
    "    # Entrenar el modelo\n",
    "    clf = RandomForestClassifier(n_estimators=100, random_state=42)\n",
    "    scores = cross_val_score(clf, X[selected_features], y, cv=5, scoring='accuracy')\n",
    "    \n",
    "    # Obtener medida de rendimiento (1 - sensibilidad para minimización)\n",
    "    rendimiento = 1 - np.mean(scores)\n",
    "    \n",
    "    # Castigar al cromosoma basado en la cantidad de características\n",
    "    penalizacion = len(selected_features) / n_caracteristicas\n",
    "    \n",
    "    # Devolver el valor de evaluación\n",
    "    return rendimiento + penalizacion,\n",
    "\n",
    "def seleccion_caracteristicas_genetico(df, target_column, n_generations=50, population_size=50):\n",
    "    X = df.drop(target_column, axis=1)\n",
    "    y = df[target_column]\n",
    "    n_caracteristicas = len(X.columns)\n",
    "\n",
    "    creator.create(\"FitnessMin\", base.Fitness, weights=(-1.0,))\n",
    "    creator.create(\"Individual\", list, fitness=creator.FitnessMin)\n",
    "\n",
    "    toolbox = base.Toolbox()\n",
    "    toolbox.register(\"attr_bool\", np.random.randint, 0, 2)\n",
    "    toolbox.register(\"individual\", tools.initRepeat, creator.Individual, toolbox.attr_bool, n=n_caracteristicas)\n",
    "    toolbox.register(\"population\", tools.initRepeat, list, toolbox.individual)\n",
    "\n",
    "    toolbox.register(\"evaluate\", evaluar_cromosoma, X=X, y=y, n_caracteristicas=n_caracteristicas)\n",
    "    toolbox.register(\"mate\", tools.cxTwoPoint)\n",
    "    toolbox.register(\"mutate\", tools.mutFlipBit, indpb=0.05)\n",
    "    toolbox.register(\"select\", tools.selTournament, tournsize=3)\n",
    "\n",
    "    population = toolbox.population(n=population_size)\n",
    "    \n",
    "    stats = tools.Statistics(lambda ind: ind.fitness.values)\n",
    "    stats.register(\"avg\", np.mean)\n",
    "    stats.register(\"min\", np.min)\n",
    "    \n",
    "    logbook = tools.Logbook()\n",
    "    hof = tools.HallOfFame(1)\n",
    "\n",
    "    for gen in range(n_generations):\n",
    "        offspring = algorithms.varAnd(population, toolbox, cxpb=0.8, mutpb=0.1 + (gen / n_generations) * 0.1)\n",
    "        fits = toolbox.map(toolbox.evaluate, offspring)\n",
    "        for fit, ind in zip(fits, offspring):\n",
    "            ind.fitness.values = fit\n",
    "        population = toolbox.select(offspring, k=len(population))\n",
    "        hof.update(population)\n",
    "        record = stats.compile(population)\n",
    "        logbook.record(gen=gen, **record)\n",
    "        print(f\"Generación {gen}: {record}\")\n",
    "\n",
    "    best_individual = hof[0]\n",
    "    selected_features = X.columns[np.array(best_individual, dtype=bool)].tolist()\n",
    "\n",
    "    return selected_features, logbook, hof"
   ]
  },
  {
   "cell_type": "code",
   "execution_count": 31,
   "metadata": {},
   "outputs": [
    {
     "name": "stdout",
     "output_type": "stream",
     "text": [
      "Generación 0: {'avg': 0.8543063870593283, 'min': 0.7437292754939815}\n",
      "Generación 1: {'avg': 0.8028282029929089, 'min': 0.7243737855502561}\n",
      "Generación 2: {'avg': 0.757910636687107, 'min': 0.7021636762813233}\n",
      "Generación 3: {'avg': 0.7196285966638907, 'min': 0.6920024225906578}\n",
      "Generación 4: {'avg': 0.692681858328917, 'min': 0.6433971786912963}\n",
      "Generación 5: {'avg': 0.6678805864688216, 'min': 0.6332480379539203}\n",
      "Generación 6: {'avg': 0.640488808135867, 'min': 0.6034037398743282}\n",
      "Generación 7: {'avg': 0.6239325409443056, 'min': 0.5872097307391426}\n",
      "Generación 8: {'avg': 0.601197779291897, 'min': 0.5818270371211548}\n",
      "Generación 9: {'avg': 0.5904938551997376, 'min': 0.5697807050748227}\n",
      "Generación 10: {'avg': 0.5771545057662705, 'min': 0.5408741514623867}\n",
      "Generación 11: {'avg': 0.5682656370656372, 'min': 0.5408741514623867}\n",
      "Generación 12: {'avg': 0.5590036591213061, 'min': 0.5259252529840764}\n",
      "Generación 13: {'avg': 0.5426561687738157, 'min': 0.5129315870492341}\n",
      "Generación 14: {'avg': 0.5271127261715496, 'min': 0.5107214777803013}\n",
      "Generación 15: {'avg': 0.5160831251419487, 'min': 0.5021561056855175}\n",
      "Generación 16: {'avg': 0.5082195069018599, 'min': 0.4945229262876323}\n",
      "Generación 17: {'avg': 0.5016640270522623, 'min': 0.48310697251873713}\n",
      "Generación 18: {'avg': 0.4971251419486714, 'min': 0.48310697251873713}\n",
      "Generación 19: {'avg': 0.49246490524137587, 'min': 0.48310697251873713}\n",
      "Generación 20: {'avg': 0.488961425290837, 'min': 0.48310697251873713}\n",
      "Generación 21: {'avg': 0.4845274686451156, 'min': 0.48310697251873713}\n",
      "Generación 22: {'avg': 0.4831069725187371, 'min': 0.48310697251873713}\n",
      "Generación 23: {'avg': 0.4831069725187371, 'min': 0.48310697251873713}\n",
      "Generación 24: {'avg': 0.4831069725187371, 'min': 0.48310697251873713}\n",
      "Generación 25: {'avg': 0.4831069725187371, 'min': 0.48310697251873713}\n",
      "Generación 26: {'avg': 0.4831069725187371, 'min': 0.48310697251873713}\n",
      "Generación 27: {'avg': 0.4831069725187371, 'min': 0.48310697251873713}\n",
      "Generación 28: {'avg': 0.48358314280667203, 'min': 0.48310697251873713}\n",
      "Generación 29: {'avg': 0.4836847704847703, 'min': 0.4751628939864234}\n",
      "Generación 30: {'avg': 0.482471446236152, 'min': 0.4751628939864234}\n"
     ]
    }
   ],
   "source": [
    "target_column = 'Valor'\n",
    "mejores_caracteristicas, logbook, hof = seleccion_caracteristicas_genetico(final, target_column)\n",
    "print(\"Mejores características seleccionadas:\", mejores_caracteristicas)\n",
    "print(\"Mejor fitness:\", hof[0].fitness.values[0])\n",
    "#calculando ga no corr mutb=0.05 a 0.15 y cpx"
   ]
  },
  {
   "cell_type": "code",
   "execution_count": null,
   "metadata": {},
   "outputs": [],
   "source": []
  }
 ],
 "metadata": {
  "kernelspec": {
   "display_name": "geotiff",
   "language": "python",
   "name": "python3"
  },
  "language_info": {
   "codemirror_mode": {
    "name": "ipython",
    "version": 3
   },
   "file_extension": ".py",
   "mimetype": "text/x-python",
   "name": "python",
   "nbconvert_exporter": "python",
   "pygments_lexer": "ipython3",
   "version": "3.9.19"
  }
 },
 "nbformat": 4,
 "nbformat_minor": 2
}
