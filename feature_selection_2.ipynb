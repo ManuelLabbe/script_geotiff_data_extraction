{
 "cells": [
  {
   "cell_type": "code",
   "execution_count": 1,
   "metadata": {},
   "outputs": [],
   "source": [
    "import pandas as pd"
   ]
  },
  {
   "cell_type": "code",
   "execution_count": 2,
   "metadata": {},
   "outputs": [],
   "source": [
    "import pandas as pd\n",
    "import numpy as np\n",
    "from sklearn.tree import DecisionTreeClassifier\n",
    "from sklearn.model_selection import train_test_split\n",
    "\n",
    "def cart_feature_selection(df, target_column, n_features=5):\n",
    "    X = df.drop(target_column, axis=1)\n",
    "    y = df[target_column]\n",
    "    \n",
    "    X_train, X_test, y_train, y_test = train_test_split(X, y, test_size=0.2, random_state=42)\n",
    "    \n",
    "    cart = DecisionTreeClassifier(random_state=42)\n",
    "    cart.fit(X_train, y_train)\n",
    "    \n",
    "    feature_importance = pd.DataFrame({\n",
    "        'feature': X.columns,\n",
    "        'importance': cart.feature_importances_\n",
    "    }).sort_values('importance', ascending=False)\n",
    "    \n",
    "    selected_features = feature_importance['feature'][:n_features].tolist()\n",
    "    \n",
    "    return selected_features\n",
    "\n"
   ]
  },
  {
   "cell_type": "code",
   "execution_count": 4,
   "metadata": {},
   "outputs": [],
   "source": [
    "import pandas as pd\n",
    "import numpy as np\n",
    "from sklearn.model_selection import cross_val_score\n",
    "from sklearn.ensemble import RandomForestClassifier\n",
    "from deap import creator, base, tools, algorithms\n",
    "\n",
    "def genetic_feature_selection(df, target_column, n_generations=50, population_size=50):\n",
    "    X = df.drop(target_column, axis=1)\n",
    "    y = df[target_column]\n",
    "\n",
    "    creator.create(\"FitnessMax\", base.Fitness, weights=(1.0,))\n",
    "    creator.create(\"Individual\", list, fitness=creator.FitnessMax)\n",
    "\n",
    "    toolbox = base.Toolbox()\n",
    "    toolbox.register(\"attr_bool\", np.random.randint, 0, 2)\n",
    "    toolbox.register(\"individual\", tools.initRepeat, creator.Individual, toolbox.attr_bool, n=len(X.columns))\n",
    "    toolbox.register(\"population\", tools.initRepeat, list, toolbox.individual)\n",
    "\n",
    "    def evaluate(individual):\n",
    "        selected_features = X.columns[np.array(individual, dtype=bool)]\n",
    "        if len(selected_features) == 0:\n",
    "            return 0,\n",
    "        clf = RandomForestClassifier(n_estimators=100, random_state=42)\n",
    "        scores = cross_val_score(clf, X[selected_features], y, cv=5)\n",
    "        return np.mean(scores),\n",
    "\n",
    "    toolbox.register(\"evaluate\", evaluate)\n",
    "    toolbox.register(\"mate\", tools.cxTwoPoint)\n",
    "    toolbox.register(\"mutate\", tools.mutFlipBit, indpb=0.05)\n",
    "    toolbox.register(\"select\", tools.selTournament, tournsize=3)\n",
    "\n",
    "    population = toolbox.population(n=population_size)\n",
    "    algorithms.eaSimple(population, toolbox, cxpb=0.5, mutpb=0.2, ngen=n_generations, verbose=False)\n",
    "\n",
    "    best_individual = tools.selBest(population, k=1)[0]\n",
    "    selected_features = X.columns[np.array(best_individual, dtype=bool)].tolist()\n",
    "\n",
    "    return selected_features"
   ]
  },
  {
   "cell_type": "code",
   "execution_count": 9,
   "metadata": {},
   "outputs": [
    {
     "data": {
      "text/plain": [
       "((602, 136), (602, 136))"
      ]
     },
     "execution_count": 9,
     "metadata": {},
     "output_type": "execute_result"
    }
   ],
   "source": [
    "df_1 = pd.read_csv('test_data_1')\n",
    "df_0 = pd.read_csv('test_data_0_2')\n",
    "df_1 = df_1.drop(columns=['Unnamed: 0.1', 'Unnamed: 0'])\n",
    "df_0 = df_0.drop(columns=['Unnamed: 0'])\n",
    "df_1['Valor'] = 1\n",
    "df_0['Valor'] = 0\n",
    "df_1 = df_1.fillna(df_1.mean())\n",
    "df_0 = df_0.fillna(df_0.mean())\n",
    "df_1.shape, df_0.shape"
   ]
  },
  {
   "cell_type": "code",
   "execution_count": 15,
   "metadata": {},
   "outputs": [
    {
     "data": {
      "text/plain": [
       "((1204, 133), (1204,))"
      ]
     },
     "execution_count": 15,
     "metadata": {},
     "output_type": "execute_result"
    }
   ],
   "source": [
    "df = pd.concat([df_0,df_1])\n",
    "df = df.drop(columns=['Longitud', 'Latitud'])\n",
    "df_x = df.drop(columns='Valor')\n",
    "df_y = df.Valor\n",
    "df_x.shape, df_y.shape"
   ]
  },
  {
   "cell_type": "code",
   "execution_count": 16,
   "metadata": {},
   "outputs": [
    {
     "name": "stdout",
     "output_type": "stream",
     "text": [
      "Características seleccionadas por CART: ['PIRange_Bulkd.5-15cm.tif', 'PIRange_Clay.0-5cm.tif', 'ksat_30-60cm.tif', 'ksat_5-15cm.tif', 'PIRange_Sand.5-15cm.tif']\n",
      "Características seleccionadas por el algoritmo genético: ['PIRange_Bulkd.0-5cm.tif', 'PIRange_Bulkd.100-200cm.tif', 'PIRange_Bulkd.15-30cm.tif', 'PIRange_Bulkd.30-60cm.tif', 'PIRange_Bulkd.5-15cm.tif', 'PIRange_Bulkd.60-100cm.tif', 'PIRange_Clay.100-200cm.tif', 'PIRange_Clay.15-30cm.tif', 'PIRange_Clay.30-60cm.tif', 'PIRange_Clay.5-15cm.tif', 'alpha_0-5cm.tif', 'alpha_5-15cm.tif', 'AvMoist.100-200cm.tif', 'AvMoist.15-30cm.tif', 'AvMoist.5-15cm.tif', 'AvMoist.60-100cm.tif', 'AWC_0-5cm.tif', 'AWC_100-200cm.tif', 'AWC_30-60cm.tif', 'AWC_5-15cm.tif', 'AWC_60-100cm.tif', 'FC.60-100cm.tif', 'ksat_5-15cm.tif', 'n_0-5cm.tif', 'n_100-200cm.tif', 'n_5-15cm.tif', 'PWP.0-5cm.tif', 'PWP.100-200cm.tif', 'PWP.15-30cm.tif', 'PWP.30-60cm.tif', 'PWP.60-100cm.tif', 'theta_r_0-5cm.tif', 'theta_r_100-200cm.tif', 'theta_r_15-30cm.tif', 'theta_r_30-60cm.tif', 'theta_r_60-100cm.tif', 'theta_s_100-200cm.tif', 'theta_s_15-30cm.tif', 'alpha.0-5cm.tif', 'alpha.15-30cm.tif', 'ksat.0-5cm.tif', 'ksat.100-200cm.tif', 'ksat.15-30cm.tif', 'n.100-200cm.tif', 'n.5-15cm.tif', 'theta_r.0-5cm.tif', 'theta_r.15-30cm.tif', 'theta_s.15-30cm.tif', 'Bulkd.0-5cm.tif', 'Bulkd.5-15cm.tif', 'Clay.100-200cm.tif', 'Clay.15-30cm.tif', 'Clay.30-60cm.tif', 'Clay.60-100cm.tif', 'Sand.0-5cm.tif', 'Silt.100-200cm.tif', 'Silt.5-15cm.tif', 'Silt.60-100cm.tif', 'Tex_Class.0-5cm.tif', 'Tex_Class.60-100cm.tif']\n"
     ]
    }
   ],
   "source": [
    "# Usar CART para seleccionar características\n",
    "cart_features = cart_feature_selection(df, 'Valor', n_features=5)\n",
    "print(\"Características seleccionadas por CART:\", cart_features)\n",
    "\n",
    "# Usar algoritmo genético para seleccionar características\n",
    "genetic_features = genetic_feature_selection(df, 'Valor')\n",
    "print(\"Características seleccionadas por el algoritmo genético:\", genetic_features)"
   ]
  },
  {
   "cell_type": "code",
   "execution_count": 22,
   "metadata": {},
   "outputs": [
    {
     "name": "stdout",
     "output_type": "stream",
     "text": [
      "Características seleccionadas por CART: ['PIRange_Bulkd.5-15cm.tif', 'PIRange_Clay.0-5cm.tif', 'ksat_30-60cm.tif', 'ksat_5-15cm.tif', 'PIRange_Sand.5-15cm.tif', 'PWP.0-5cm.tif', 'n_15-30cm.tif', 'PIRange_Bulkd.30-60cm.tif', 'PIRange_Clay.15-30cm.tif', 'n_30-60cm.tif']\n"
     ]
    }
   ],
   "source": [
    "cart_features = cart_feature_selection(df, 'Valor', n_features=10)\n",
    "print(\"Características seleccionadas por CART:\", cart_features)"
   ]
  },
  {
   "cell_type": "code",
   "execution_count": 24,
   "metadata": {},
   "outputs": [
    {
     "data": {
      "text/plain": [
       "10"
      ]
     },
     "execution_count": 24,
     "metadata": {},
     "output_type": "execute_result"
    }
   ],
   "source": [
    "len(cart_features)"
   ]
  },
  {
   "cell_type": "code",
   "execution_count": null,
   "metadata": {},
   "outputs": [],
   "source": []
  }
 ],
 "metadata": {
  "kernelspec": {
   "display_name": "geotiff",
   "language": "python",
   "name": "python3"
  },
  "language_info": {
   "codemirror_mode": {
    "name": "ipython",
    "version": 3
   },
   "file_extension": ".py",
   "mimetype": "text/x-python",
   "name": "python",
   "nbconvert_exporter": "python",
   "pygments_lexer": "ipython3",
   "version": "3.8.0"
  }
 },
 "nbformat": 4,
 "nbformat_minor": 2
}
