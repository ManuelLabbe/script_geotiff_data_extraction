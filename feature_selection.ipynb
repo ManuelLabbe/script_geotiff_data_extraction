{
 "cells": [
  {
   "cell_type": "code",
   "execution_count": 111,
   "metadata": {},
   "outputs": [],
   "source": [
    "import pandas as pd\n",
    "import matplotlib.pyplot as plt\n",
    "import seaborn as sns"
   ]
  },
  {
   "cell_type": "code",
   "execution_count": 112,
   "metadata": {},
   "outputs": [],
   "source": [
    "pirange_1 = pd.read_csv('PIRange_1')\n",
    "rosetta_mean_1 = pd.read_csv('rosetta_mean_1')\n",
    "soilmaps_mean_1 = pd.read_csv('soilmaps_mean_1')\n",
    "textural_classes_1 = pd.read_csv('textural_classes_1')\n",
    "db = pd.read_csv('New_DB_2.csv')\n",
    "\n",
    "textural_classes_1 = textural_classes_1.drop(columns=['Unnamed: 0.1', 'Unnamed: 0'])\n",
    "rosetta_mean_1 = rosetta_mean_1.drop(columns=['Unnamed: 0.1', 'Unnamed: 0'])\n",
    "soilmaps_mean_1 = soilmaps_mean_1.drop(columns=['Unnamed: 0.1', 'Unnamed: 0'])\n",
    "pirange_1 = pirange_1.drop(columns=['Unnamed: 0.1', 'Unnamed: 0'])"
   ]
  },
  {
   "cell_type": "code",
   "execution_count": 113,
   "metadata": {},
   "outputs": [],
   "source": [
    "cols_latlon = ['Latitud', 'Longitud']\n",
    "rosetta_mean_1 = rosetta_mean_1.drop(columns=cols_latlon)\n",
    "pirange_1 = pirange_1.drop(columns=cols_latlon)\n",
    "textural_classes_1 = textural_classes_1.drop(columns=cols_latlon)"
   ]
  },
  {
   "cell_type": "code",
   "execution_count": 114,
   "metadata": {},
   "outputs": [],
   "source": [
    "data_0 = pd.read_csv('tif_data_0_01')\n",
    "data_0['Valor'] = 0\n",
    "data_1 = pd.concat([soilmaps_mean_1, rosetta_mean_1, pirange_1, textural_classes_1], axis=1)\n",
    "data_1['Valor'] = 1"
   ]
  },
  {
   "cell_type": "code",
   "execution_count": 115,
   "metadata": {},
   "outputs": [],
   "source": [
    "data_0 = pd.read_csv('tif_data_0_01')\n",
    "data_0 = data_0.drop(columns=['Unnamed: 0'])\n",
    "data_0['Valor'] = 0\n",
    "data_1 = pd.concat([soilmaps_mean_1, rosetta_mean_1, pirange_1, textural_classes_1], axis=1)\n",
    "data_1['Valor'] = 1"
   ]
  },
  {
   "cell_type": "code",
   "execution_count": 116,
   "metadata": {},
   "outputs": [
    {
     "name": "stdout",
     "output_type": "stream",
     "text": [
      "Luego de drop duplicates: (1247, 143)\n",
      "\n",
      "Luego de drop duplicates: (602, 143)\n"
     ]
    }
   ],
   "source": [
    "print(f'Luego de drop duplicates: {data_0.shape}\\n')\n",
    "data_0 = data_0.drop_duplicates(subset=['Latitud', 'Longitud', 'Fecha Evento'])\n",
    "print(f'Luego de drop duplicates: {data_0.shape}')"
   ]
  },
  {
   "cell_type": "code",
   "execution_count": 117,
   "metadata": {},
   "outputs": [
    {
     "name": "stdout",
     "output_type": "stream",
     "text": [
      "Luego de drop duplicates: (458, 106)\n",
      "\n",
      "Luego de drop duplicates: (420, 106)\n"
     ]
    }
   ],
   "source": [
    "print(f'Luego de drop duplicates: {data_1.shape}\\n')\n",
    "data_1 = data_1.drop_duplicates()\n",
    "print(f'Luego de drop duplicates: {data_1.shape}')"
   ]
  },
  {
   "cell_type": "code",
   "execution_count": 118,
   "metadata": {},
   "outputs": [
    {
     "data": {
      "text/plain": [
       "(533, 17)"
      ]
     },
     "execution_count": 118,
     "metadata": {},
     "output_type": "execute_result"
    }
   ],
   "source": [
    "db_1 = db[db['Valor'] == 1]\n",
    "db_0 = db[db['Valor'] == 0]\n",
    "db_0.shape"
   ]
  },
  {
   "cell_type": "code",
   "execution_count": 119,
   "metadata": {},
   "outputs": [],
   "source": [
    "data_0 = pd.merge(data_0, db_0, on=['Latitud', 'Longitud', 'Valor', 'Fecha Evento'], how='inner')\n",
    "data_1 = pd.merge(data_1, db_1, on=['Latitud', 'Longitud', 'Valor'], how='inner')"
   ]
  },
  {
   "cell_type": "code",
   "execution_count": 120,
   "metadata": {},
   "outputs": [],
   "source": [
    "def rename_columns(df):\n",
    "    # Crear una lista con los nombres de las columnas renombradas\n",
    "    new_columns = []\n",
    "    for col in df.columns:\n",
    "        if col.endswith('_x') or col.endswith('_y'):\n",
    "            new_columns.append(col[:-2])\n",
    "        else:\n",
    "            new_columns.append(col)\n",
    "    \n",
    "    # Renombrar las columnas del DataFrame\n",
    "    df.columns = new_columns\n",
    "\n",
    "    return df"
   ]
  },
  {
   "cell_type": "code",
   "execution_count": 121,
   "metadata": {},
   "outputs": [
    {
     "name": "stdout",
     "output_type": "stream",
     "text": [
      "(531, 156)\n"
     ]
    }
   ],
   "source": [
    "data_0 = rename_columns(data_0)\n",
    "data_1 = rename_columns(data_1)\n",
    "print(data_0.shape)"
   ]
  },
  {
   "cell_type": "code",
   "execution_count": 122,
   "metadata": {},
   "outputs": [
    {
     "name": "stdout",
     "output_type": "stream",
     "text": [
      "(531, 156) (458, 120)\n",
      "Total data: 989\n"
     ]
    }
   ],
   "source": [
    "print(data_0.shape, data_1.shape)\n",
    "print(f'Total data: {data_0.shape[0] + data_1.shape[0]}')"
   ]
  },
  {
   "cell_type": "code",
   "execution_count": 123,
   "metadata": {},
   "outputs": [],
   "source": [
    "def getDuplicateColumns(df):\n",
    " \n",
    "    # Create an empty set\n",
    "    duplicateColumnNames = set()\n",
    " \n",
    "    # Iterate through all the columns of dataframe\n",
    "    for x in range(df.shape[1]):\n",
    " \n",
    "        # Take column at xth index.\n",
    "        col = df.iloc[:, x]\n",
    " \n",
    "        # Iterate through all the columns\n",
    "        for y in range(x + 1, df.shape[1]):\n",
    " \n",
    "            # Take column at yth index.\n",
    "            otherCol = df.iloc[:, y]\n",
    " \n",
    "            # Check if two columns at x & y\n",
    "            if col.equals(otherCol):\n",
    "                duplicateColumnNames.add(df.columns.values[y])\n",
    " \n",
    "    return list(duplicateColumnNames)"
   ]
  },
  {
   "cell_type": "code",
   "execution_count": 124,
   "metadata": {},
   "outputs": [
    {
     "data": {
      "text/plain": [
       "\"import re\\ndata_0_aux = data_0_aux.rename(columns= lambda x: re.sub(r'\\\\.', ' ', x))\\ndata_1_aux = data_1_aux.rename(columns= lambda x: re.sub(r'\\\\.', ' ', x))\""
      ]
     },
     "execution_count": 124,
     "metadata": {},
     "output_type": "execute_result"
    }
   ],
   "source": [
    "\"\"\"import re\n",
    "data_0_aux = data_0_aux.rename(columns= lambda x: re.sub(r'\\.', ' ', x))\n",
    "data_1_aux = data_1_aux.rename(columns= lambda x: re.sub(r'\\.', ' ', x))\"\"\""
   ]
  },
  {
   "cell_type": "code",
   "execution_count": 125,
   "metadata": {},
   "outputs": [
    {
     "name": "stdout",
     "output_type": "stream",
     "text": [
      "Columnas en común: ['AWC_15-30cm.tif', 'theta_r_15-30cm.tif', 'PIRange_Bulkd.5-15cm.tif', 'n_30-60cm.tif', 'valor_humedad_suelo4', 'PIRange_Sand.100-200cm.tif', 'Bulkd.100-200cm.tif', 'AWC_100-200cm.tif', 'theta_r_100-200cm.tif', 'Sand.5-15cm.tif', 'AvMoist.15-30cm.tif', 'AWC_30-60cm.tif', 'Silt.5-15cm.tif', 'Clay.0-5cm.tif', 'PIRange_Clay.5-15cm.tif', 'theta_r_30-60cm.tif', 'Clay.60-100cm.tif', 'Tex_Class.5-15cm.tif', 'Fecha Evento', 'Sand.15-30cm.tif', 'theta_s_5-15cm.tif', 'PWP.30-60cm.tif', 'PIRange_Sand.15-30cm.tif', 'PWP.15-30cm.tif', 'PIRange_Bulkd.60-100cm.tif', 'alpha_15-30cm.tif', 'n_15-30cm.tif', 'valor_humedad_suelo2', 'n_100-200cm.tif', 'Tipo Remoción en masa', 'Unnamed: 0', 'PIRange_Bulkd.15-30cm.tif', 'PIRange_Clay.60-100cm.tif', 'PIRange_Sand.0-5cm.tif', 'Silt.0-5cm.tif', 'Sand.60-100cm.tif', 'Clay.30-60cm.tif', 'PIRange_Bulkd.30-60cm.tif', 'valor_humedad_suelo1', 'ksat_15-30cm.tif', 'ksat_5-15cm.tif', 'PIRange_Clay.0-5cm.tif', 'alpha_60-100cm.tif', 'theta_s_0-5cm.tif', 'ksat_30-60cm.tif', 'Bulkd.0-5cm.tif', 'theta_s_15-30cm.tif', 'Valor', 'theta_s_100-200cm.tif', 'Sand.0-5cm.tif', 'Clay.15-30cm.tif', 'PP', 'PWP.100-200cm.tif', 'alpha_5-15cm.tif', 'n_60-100cm.tif', 'Sand.30-60cm.tif', 'theta_r_60-100cm.tif', 'Longitud', 'Cota (m.s.n.m)', 'Factor desencadenante', 'Comuna', 'FC.5-15cm.tif', 'n_5-15cm.tif', 'PWP.5-15cm.tif', 'valor_humedad_suelo3', 'Bulkd.5-15cm.tif', 'PWP.0-5cm.tif', 'Bulkd.30-60cm.tif', 'Clay.100-200cm.tif', 'AvMoist.30-60cm.tif', 'ksat_60-100cm.tif', 'Tex_Class.0-5cm.tif', 'theta_r_0-5cm.tif', 'Bulkd.60-100cm.tif', 'FC.15-30cm.tif', 'Región', 'AvMoist.100-200cm.tif', 'FC.0-5cm.tif', 'alpha_0-5cm.tif', 'Sistema Georeferencia', 'AvMoist.0-5cm.tif', 'AWC_0-5cm.tif', 'PWP.60-100cm.tif', 'AvMoist.5-15cm.tif', 'AvMoist.60-100cm.tif', 'n_0-5cm.tif', 'Total_AWC_0_200cm.tif', 'PIRange_Sand.30-60cm.tif', 'Tex_Class.60-100cm.tif', 'Silt.30-60cm.tif', 'FC.30-60cm.tif', 'PIRange_Bulkd.0-5cm.tif', 'PIRange_Clay.100-200cm.tif', 'theta_s_30-60cm.tif', 'alpha_100-200cm.tif', 'FC.60-100cm.tif', 'AWC_5-15cm.tif', 'Silt.100-200cm.tif', 'PIRange_Clay.30-60cm.tif', 'Tex_Class.100-200cm.tif', 'AWC_60-100cm.tif', 'alpha_30-60cm.tif', 'ksat_100-200cm.tif', 'Tex_Class.15-30cm.tif', 'Tex_Class.30-60cm.tif', 'PIRange_Clay.15-30cm.tif', 'PIRange_Sand.60-100cm.tif', 'Bulkd.15-30cm.tif', 'Sand.100-200cm.tif', 'theta_r_5-15cm.tif', 'FC.100-200cm.tif', 'PIRange_Sand.5-15cm.tif', 'ksat_0-5cm.tif', 'Silt.15-30cm.tif', 'slope', 'PIRange_Bulkd.100-200cm.tif', 'Clay.5-15cm.tif', 'Silt.60-100cm.tif', 'theta_s_60-100cm.tif', 'Latitud']\n"
     ]
    }
   ],
   "source": [
    "columns_data_0 = set(data_0.columns)\n",
    "columns_data_1 = set(data_1.columns)\n",
    "\n",
    "# Columnas en común\n",
    "common_columns = columns_data_0 & columns_data_1\n",
    "\n",
    "print(\"Columnas en común:\", list(common_columns))"
   ]
  },
  {
   "cell_type": "code",
   "execution_count": 126,
   "metadata": {},
   "outputs": [],
   "source": [
    "data_1_aux = data_1[list(common_columns)]\n",
    "data_0_aux = data_0[list(common_columns)]"
   ]
  },
  {
   "cell_type": "code",
   "execution_count": 128,
   "metadata": {},
   "outputs": [],
   "source": [
    "cols = ['Región', 'Sistema Georeferencia', 'Cota (m.s.n.m)', 'Latitud', 'Longitud', 'valor_humedad_suelo2', 'Unnamed: 0',\n",
    "        'valor_humedad_suelo3', 'valor_humedad_suelo4', 'Tipo Remoción en masa', 'Factor desencadenante', 'Comuna', 'Fecha Evento']\n",
    "data_1_aux = data_1_aux.drop(columns=cols)\n",
    "data_0_aux = data_0_aux.drop(columns=cols)"
   ]
  },
  {
   "cell_type": "code",
   "execution_count": 129,
   "metadata": {},
   "outputs": [],
   "source": [
    "from sklearn.linear_model import Lasso"
   ]
  },
  {
   "cell_type": "code",
   "execution_count": 130,
   "metadata": {},
   "outputs": [
    {
     "data": {
      "text/plain": [
       "((531, 107), (458, 107))"
      ]
     },
     "execution_count": 130,
     "metadata": {},
     "output_type": "execute_result"
    }
   ],
   "source": [
    "data_0_aux.shape, data_1_aux.shape"
   ]
  },
  {
   "cell_type": "code",
   "execution_count": 131,
   "metadata": {},
   "outputs": [],
   "source": [
    "columns_df1 = set(data_0_aux.columns)\n",
    "columns_df2 = set(data_1_aux.columns)\n",
    "\n",
    "columns_different = columns_df1.symmetric_difference(columns_df2)"
   ]
  },
  {
   "cell_type": "code",
   "execution_count": 132,
   "metadata": {},
   "outputs": [
    {
     "data": {
      "text/plain": [
       "Index([], dtype='object')"
      ]
     },
     "execution_count": 132,
     "metadata": {},
     "output_type": "execute_result"
    }
   ],
   "source": [
    "duplicated_columns = data_0_aux.columns[data_0_aux.columns.duplicated()]\n",
    "duplicated_columns"
   ]
  },
  {
   "cell_type": "code",
   "execution_count": 133,
   "metadata": {},
   "outputs": [],
   "source": [
    "data = pd.concat([data_0_aux, data_1_aux])"
   ]
  },
  {
   "cell_type": "code",
   "execution_count": 134,
   "metadata": {},
   "outputs": [],
   "source": [
    "data = data.dropna()\n",
    "data_y = data.Valor\n",
    "data = data.drop(columns='Valor')"
   ]
  },
  {
   "cell_type": "code",
   "execution_count": 135,
   "metadata": {},
   "outputs": [
    {
     "data": {
      "text/html": [
       "<style>#sk-container-id-4 {color: black;}#sk-container-id-4 pre{padding: 0;}#sk-container-id-4 div.sk-toggleable {background-color: white;}#sk-container-id-4 label.sk-toggleable__label {cursor: pointer;display: block;width: 100%;margin-bottom: 0;padding: 0.3em;box-sizing: border-box;text-align: center;}#sk-container-id-4 label.sk-toggleable__label-arrow:before {content: \"▸\";float: left;margin-right: 0.25em;color: #696969;}#sk-container-id-4 label.sk-toggleable__label-arrow:hover:before {color: black;}#sk-container-id-4 div.sk-estimator:hover label.sk-toggleable__label-arrow:before {color: black;}#sk-container-id-4 div.sk-toggleable__content {max-height: 0;max-width: 0;overflow: hidden;text-align: left;background-color: #f0f8ff;}#sk-container-id-4 div.sk-toggleable__content pre {margin: 0.2em;color: black;border-radius: 0.25em;background-color: #f0f8ff;}#sk-container-id-4 input.sk-toggleable__control:checked~div.sk-toggleable__content {max-height: 200px;max-width: 100%;overflow: auto;}#sk-container-id-4 input.sk-toggleable__control:checked~label.sk-toggleable__label-arrow:before {content: \"▾\";}#sk-container-id-4 div.sk-estimator input.sk-toggleable__control:checked~label.sk-toggleable__label {background-color: #d4ebff;}#sk-container-id-4 div.sk-label input.sk-toggleable__control:checked~label.sk-toggleable__label {background-color: #d4ebff;}#sk-container-id-4 input.sk-hidden--visually {border: 0;clip: rect(1px 1px 1px 1px);clip: rect(1px, 1px, 1px, 1px);height: 1px;margin: -1px;overflow: hidden;padding: 0;position: absolute;width: 1px;}#sk-container-id-4 div.sk-estimator {font-family: monospace;background-color: #f0f8ff;border: 1px dotted black;border-radius: 0.25em;box-sizing: border-box;margin-bottom: 0.5em;}#sk-container-id-4 div.sk-estimator:hover {background-color: #d4ebff;}#sk-container-id-4 div.sk-parallel-item::after {content: \"\";width: 100%;border-bottom: 1px solid gray;flex-grow: 1;}#sk-container-id-4 div.sk-label:hover label.sk-toggleable__label {background-color: #d4ebff;}#sk-container-id-4 div.sk-serial::before {content: \"\";position: absolute;border-left: 1px solid gray;box-sizing: border-box;top: 0;bottom: 0;left: 50%;z-index: 0;}#sk-container-id-4 div.sk-serial {display: flex;flex-direction: column;align-items: center;background-color: white;padding-right: 0.2em;padding-left: 0.2em;position: relative;}#sk-container-id-4 div.sk-item {position: relative;z-index: 1;}#sk-container-id-4 div.sk-parallel {display: flex;align-items: stretch;justify-content: center;background-color: white;position: relative;}#sk-container-id-4 div.sk-item::before, #sk-container-id-4 div.sk-parallel-item::before {content: \"\";position: absolute;border-left: 1px solid gray;box-sizing: border-box;top: 0;bottom: 0;left: 50%;z-index: -1;}#sk-container-id-4 div.sk-parallel-item {display: flex;flex-direction: column;z-index: 1;position: relative;background-color: white;}#sk-container-id-4 div.sk-parallel-item:first-child::after {align-self: flex-end;width: 50%;}#sk-container-id-4 div.sk-parallel-item:last-child::after {align-self: flex-start;width: 50%;}#sk-container-id-4 div.sk-parallel-item:only-child::after {width: 0;}#sk-container-id-4 div.sk-dashed-wrapped {border: 1px dashed gray;margin: 0 0.4em 0.5em 0.4em;box-sizing: border-box;padding-bottom: 0.4em;background-color: white;}#sk-container-id-4 div.sk-label label {font-family: monospace;font-weight: bold;display: inline-block;line-height: 1.2em;}#sk-container-id-4 div.sk-label-container {text-align: center;}#sk-container-id-4 div.sk-container {/* jupyter's `normalize.less` sets `[hidden] { display: none; }` but bootstrap.min.css set `[hidden] { display: none !important; }` so we also need the `!important` here to be able to override the default hidden behavior on the sphinx rendered scikit-learn.org. See: https://github.com/scikit-learn/scikit-learn/issues/21755 */display: inline-block !important;position: relative;}#sk-container-id-4 div.sk-text-repr-fallback {display: none;}</style><div id=\"sk-container-id-4\" class=\"sk-top-container\"><div class=\"sk-text-repr-fallback\"><pre>StandardScaler()</pre><b>In a Jupyter environment, please rerun this cell to show the HTML representation or trust the notebook. <br />On GitHub, the HTML representation is unable to render, please try loading this page with nbviewer.org.</b></div><div class=\"sk-container\" hidden><div class=\"sk-item\"><div class=\"sk-estimator sk-toggleable\"><input class=\"sk-toggleable__control sk-hidden--visually\" id=\"sk-estimator-id-6\" type=\"checkbox\" checked><label for=\"sk-estimator-id-6\" class=\"sk-toggleable__label sk-toggleable__label-arrow\">StandardScaler</label><div class=\"sk-toggleable__content\"><pre>StandardScaler()</pre></div></div></div></div></div>"
      ],
      "text/plain": [
       "StandardScaler()"
      ]
     },
     "execution_count": 135,
     "metadata": {},
     "output_type": "execute_result"
    }
   ],
   "source": [
    "from sklearn.preprocessing import StandardScaler\n",
    "from sklearn.model_selection import train_test_split\n",
    "\n",
    "X_train, X_test, y_train, y_test = train_test_split(data, data_y, random_state=42) \n",
    "\n",
    "scaler = StandardScaler()\n",
    "scaler.fit(X_train)"
   ]
  },
  {
   "cell_type": "code",
   "execution_count": 136,
   "metadata": {},
   "outputs": [
    {
     "data": {
      "text/html": [
       "<style>#sk-container-id-5 {color: black;}#sk-container-id-5 pre{padding: 0;}#sk-container-id-5 div.sk-toggleable {background-color: white;}#sk-container-id-5 label.sk-toggleable__label {cursor: pointer;display: block;width: 100%;margin-bottom: 0;padding: 0.3em;box-sizing: border-box;text-align: center;}#sk-container-id-5 label.sk-toggleable__label-arrow:before {content: \"▸\";float: left;margin-right: 0.25em;color: #696969;}#sk-container-id-5 label.sk-toggleable__label-arrow:hover:before {color: black;}#sk-container-id-5 div.sk-estimator:hover label.sk-toggleable__label-arrow:before {color: black;}#sk-container-id-5 div.sk-toggleable__content {max-height: 0;max-width: 0;overflow: hidden;text-align: left;background-color: #f0f8ff;}#sk-container-id-5 div.sk-toggleable__content pre {margin: 0.2em;color: black;border-radius: 0.25em;background-color: #f0f8ff;}#sk-container-id-5 input.sk-toggleable__control:checked~div.sk-toggleable__content {max-height: 200px;max-width: 100%;overflow: auto;}#sk-container-id-5 input.sk-toggleable__control:checked~label.sk-toggleable__label-arrow:before {content: \"▾\";}#sk-container-id-5 div.sk-estimator input.sk-toggleable__control:checked~label.sk-toggleable__label {background-color: #d4ebff;}#sk-container-id-5 div.sk-label input.sk-toggleable__control:checked~label.sk-toggleable__label {background-color: #d4ebff;}#sk-container-id-5 input.sk-hidden--visually {border: 0;clip: rect(1px 1px 1px 1px);clip: rect(1px, 1px, 1px, 1px);height: 1px;margin: -1px;overflow: hidden;padding: 0;position: absolute;width: 1px;}#sk-container-id-5 div.sk-estimator {font-family: monospace;background-color: #f0f8ff;border: 1px dotted black;border-radius: 0.25em;box-sizing: border-box;margin-bottom: 0.5em;}#sk-container-id-5 div.sk-estimator:hover {background-color: #d4ebff;}#sk-container-id-5 div.sk-parallel-item::after {content: \"\";width: 100%;border-bottom: 1px solid gray;flex-grow: 1;}#sk-container-id-5 div.sk-label:hover label.sk-toggleable__label {background-color: #d4ebff;}#sk-container-id-5 div.sk-serial::before {content: \"\";position: absolute;border-left: 1px solid gray;box-sizing: border-box;top: 0;bottom: 0;left: 50%;z-index: 0;}#sk-container-id-5 div.sk-serial {display: flex;flex-direction: column;align-items: center;background-color: white;padding-right: 0.2em;padding-left: 0.2em;position: relative;}#sk-container-id-5 div.sk-item {position: relative;z-index: 1;}#sk-container-id-5 div.sk-parallel {display: flex;align-items: stretch;justify-content: center;background-color: white;position: relative;}#sk-container-id-5 div.sk-item::before, #sk-container-id-5 div.sk-parallel-item::before {content: \"\";position: absolute;border-left: 1px solid gray;box-sizing: border-box;top: 0;bottom: 0;left: 50%;z-index: -1;}#sk-container-id-5 div.sk-parallel-item {display: flex;flex-direction: column;z-index: 1;position: relative;background-color: white;}#sk-container-id-5 div.sk-parallel-item:first-child::after {align-self: flex-end;width: 50%;}#sk-container-id-5 div.sk-parallel-item:last-child::after {align-self: flex-start;width: 50%;}#sk-container-id-5 div.sk-parallel-item:only-child::after {width: 0;}#sk-container-id-5 div.sk-dashed-wrapped {border: 1px dashed gray;margin: 0 0.4em 0.5em 0.4em;box-sizing: border-box;padding-bottom: 0.4em;background-color: white;}#sk-container-id-5 div.sk-label label {font-family: monospace;font-weight: bold;display: inline-block;line-height: 1.2em;}#sk-container-id-5 div.sk-label-container {text-align: center;}#sk-container-id-5 div.sk-container {/* jupyter's `normalize.less` sets `[hidden] { display: none; }` but bootstrap.min.css set `[hidden] { display: none !important; }` so we also need the `!important` here to be able to override the default hidden behavior on the sphinx rendered scikit-learn.org. See: https://github.com/scikit-learn/scikit-learn/issues/21755 */display: inline-block !important;position: relative;}#sk-container-id-5 div.sk-text-repr-fallback {display: none;}</style><div id=\"sk-container-id-5\" class=\"sk-top-container\"><div class=\"sk-text-repr-fallback\"><pre>SelectFromModel(estimator=LogisticRegression(C=0.5, penalty=&#x27;l1&#x27;,\n",
       "                                             random_state=42,\n",
       "                                             solver=&#x27;liblinear&#x27;))</pre><b>In a Jupyter environment, please rerun this cell to show the HTML representation or trust the notebook. <br />On GitHub, the HTML representation is unable to render, please try loading this page with nbviewer.org.</b></div><div class=\"sk-container\" hidden><div class=\"sk-item sk-dashed-wrapped\"><div class=\"sk-label-container\"><div class=\"sk-label sk-toggleable\"><input class=\"sk-toggleable__control sk-hidden--visually\" id=\"sk-estimator-id-7\" type=\"checkbox\" ><label for=\"sk-estimator-id-7\" class=\"sk-toggleable__label sk-toggleable__label-arrow\">SelectFromModel</label><div class=\"sk-toggleable__content\"><pre>SelectFromModel(estimator=LogisticRegression(C=0.5, penalty=&#x27;l1&#x27;,\n",
       "                                             random_state=42,\n",
       "                                             solver=&#x27;liblinear&#x27;))</pre></div></div></div><div class=\"sk-parallel\"><div class=\"sk-parallel-item\"><div class=\"sk-item\"><div class=\"sk-label-container\"><div class=\"sk-label sk-toggleable\"><input class=\"sk-toggleable__control sk-hidden--visually\" id=\"sk-estimator-id-8\" type=\"checkbox\" ><label for=\"sk-estimator-id-8\" class=\"sk-toggleable__label sk-toggleable__label-arrow\">estimator: LogisticRegression</label><div class=\"sk-toggleable__content\"><pre>LogisticRegression(C=0.5, penalty=&#x27;l1&#x27;, random_state=42, solver=&#x27;liblinear&#x27;)</pre></div></div></div><div class=\"sk-serial\"><div class=\"sk-item\"><div class=\"sk-estimator sk-toggleable\"><input class=\"sk-toggleable__control sk-hidden--visually\" id=\"sk-estimator-id-9\" type=\"checkbox\" ><label for=\"sk-estimator-id-9\" class=\"sk-toggleable__label sk-toggleable__label-arrow\">LogisticRegression</label><div class=\"sk-toggleable__content\"><pre>LogisticRegression(C=0.5, penalty=&#x27;l1&#x27;, random_state=42, solver=&#x27;liblinear&#x27;)</pre></div></div></div></div></div></div></div></div></div></div>"
      ],
      "text/plain": [
       "SelectFromModel(estimator=LogisticRegression(C=0.5, penalty='l1',\n",
       "                                             random_state=42,\n",
       "                                             solver='liblinear'))"
      ]
     },
     "execution_count": 136,
     "metadata": {},
     "output_type": "execute_result"
    }
   ],
   "source": [
    "from sklearn.feature_selection import SelectFromModel\n",
    "from sklearn.linear_model import LogisticRegression\n",
    "\n",
    "sel_ = SelectFromModel(LogisticRegression(C=0.5, penalty='l1', solver='liblinear', random_state=42))\n",
    "sel_.fit(scaler.transform(X_train), y_train)"
   ]
  },
  {
   "cell_type": "code",
   "execution_count": 137,
   "metadata": {},
   "outputs": [
    {
     "data": {
      "text/plain": [
       "array(['x2', 'x4', 'x13', 'x20', 'x25', 'x32', 'x33', 'x35', 'x36', 'x39',\n",
       "       'x42', 'x46', 'x60', 'x74', 'x75', 'x85', 'x86', 'x91', 'x92',\n",
       "       'x94', 'x95', 'x101', 'x102', 'x103'], dtype=object)"
      ]
     },
     "execution_count": 137,
     "metadata": {},
     "output_type": "execute_result"
    }
   ],
   "source": [
    "sel_.get_feature_names_out()"
   ]
  },
  {
   "cell_type": "code",
   "execution_count": 141,
   "metadata": {},
   "outputs": [
    {
     "data": {
      "text/plain": [
       "Index(['PIRange_Bulkd.5-15cm.tif', 'PIRange_Sand.100-200cm.tif',\n",
       "       'PIRange_Clay.5-15cm.tif', 'PIRange_Sand.15-30cm.tif',\n",
       "       'n_100-200cm.tif', 'PIRange_Bulkd.30-60cm.tif', 'valor_humedad_suelo1',\n",
       "       'ksat_5-15cm.tif', 'PIRange_Clay.0-5cm.tif', 'ksat_30-60cm.tif',\n",
       "       'theta_s_100-200cm.tif', 'PWP.100-200cm.tif', 'Tex_Class.0-5cm.tif',\n",
       "       'PIRange_Sand.30-60cm.tif', 'Tex_Class.60-100cm.tif',\n",
       "       'PIRange_Clay.30-60cm.tif', 'Tex_Class.100-200cm.tif',\n",
       "       'Tex_Class.30-60cm.tif', 'PIRange_Clay.15-30cm.tif',\n",
       "       'Bulkd.15-30cm.tif', 'Sand.100-200cm.tif', 'slope',\n",
       "       'PIRange_Bulkd.100-200cm.tif', 'Clay.5-15cm.tif'],\n",
       "      dtype='object')"
      ]
     },
     "execution_count": 141,
     "metadata": {},
     "output_type": "execute_result"
    }
   ],
   "source": [
    "data.columns[[2,4,13,20,25,32,33,35,36,39,42,46,60,74,75,85,86,91,92,94,95,101,102,103]]"
   ]
  },
  {
   "cell_type": "code",
   "execution_count": 139,
   "metadata": {},
   "outputs": [],
   "source": [
    "X_train_selected = sel_.transform(scaler.transform(X_train))\n",
    "X_test_selected = sel_.transform(scaler.transform(X_test))"
   ]
  },
  {
   "cell_type": "code",
   "execution_count": 140,
   "metadata": {},
   "outputs": [
    {
     "data": {
      "text/plain": [
       "(408, 24)"
      ]
     },
     "execution_count": 140,
     "metadata": {},
     "output_type": "execute_result"
    }
   ],
   "source": [
    "X_train_selected.shape"
   ]
  },
  {
   "cell_type": "code",
   "execution_count": null,
   "metadata": {},
   "outputs": [],
   "source": []
  }
 ],
 "metadata": {
  "kernelspec": {
   "display_name": "geotiff",
   "language": "python",
   "name": "python3"
  },
  "language_info": {
   "codemirror_mode": {
    "name": "ipython",
    "version": 3
   },
   "file_extension": ".py",
   "mimetype": "text/x-python",
   "name": "python",
   "nbconvert_exporter": "python",
   "pygments_lexer": "ipython3",
   "version": "3.8.0"
  }
 },
 "nbformat": 4,
 "nbformat_minor": 2
}
