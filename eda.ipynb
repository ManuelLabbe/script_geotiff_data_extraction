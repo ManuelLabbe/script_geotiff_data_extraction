{
 "cells": [
  {
   "cell_type": "code",
   "execution_count": 29,
   "metadata": {},
   "outputs": [],
   "source": [
    "import rasterio\n",
    "import rasterio.features\n",
    "import rasterio.warp\n",
    "import geopandas as gpd\n",
    "import seaborn as sns\n",
    "import matplotlib.pyplot\n",
    "import numpy as np\n",
    "import pandas as pd\n",
    "import os"
   ]
  },
  {
   "cell_type": "code",
   "execution_count": 30,
   "metadata": {},
   "outputs": [],
   "source": [
    "df = pd.read_csv('data_processed.csv')"
   ]
  },
  {
   "cell_type": "code",
   "execution_count": 31,
   "metadata": {},
   "outputs": [
    {
     "data": {
      "text/html": [
       "<div>\n",
       "<style scoped>\n",
       "    .dataframe tbody tr th:only-of-type {\n",
       "        vertical-align: middle;\n",
       "    }\n",
       "\n",
       "    .dataframe tbody tr th {\n",
       "        vertical-align: top;\n",
       "    }\n",
       "\n",
       "    .dataframe thead th {\n",
       "        text-align: right;\n",
       "    }\n",
       "</style>\n",
       "<table border=\"1\" class=\"dataframe\">\n",
       "  <thead>\n",
       "    <tr style=\"text-align: right;\">\n",
       "      <th></th>\n",
       "      <th>Región</th>\n",
       "      <th>Comuna</th>\n",
       "      <th>Tipo Remoción en masa</th>\n",
       "      <th>Factor desencadenante</th>\n",
       "      <th>Fecha Evento</th>\n",
       "      <th>Longitud</th>\n",
       "      <th>Latitud</th>\n",
       "      <th>Sistema Georeferencia</th>\n",
       "      <th>Cota (m.s.n.m)</th>\n",
       "    </tr>\n",
       "  </thead>\n",
       "  <tbody>\n",
       "    <tr>\n",
       "      <th>0</th>\n",
       "      <td>Los Lagos</td>\n",
       "      <td>Castro</td>\n",
       "      <td>Flujo</td>\n",
       "      <td>Precipitaciones</td>\n",
       "      <td>07/03/2001</td>\n",
       "      <td>-73.7855</td>\n",
       "      <td>-42.4686</td>\n",
       "      <td>WGS 84- UTM 18 S</td>\n",
       "      <td>-</td>\n",
       "    </tr>\n",
       "    <tr>\n",
       "      <th>1</th>\n",
       "      <td>Los Lagos</td>\n",
       "      <td>Castro</td>\n",
       "      <td>Flujo</td>\n",
       "      <td>Precipitaciones</td>\n",
       "      <td>09/03/2001</td>\n",
       "      <td>-73.7855</td>\n",
       "      <td>-42.4686</td>\n",
       "      <td>WGS 84- UTM 18 S</td>\n",
       "      <td>-</td>\n",
       "    </tr>\n",
       "    <tr>\n",
       "      <th>2</th>\n",
       "      <td>Los Lagos</td>\n",
       "      <td>Chaitén</td>\n",
       "      <td>Deslizamiento</td>\n",
       "      <td>Precipitaciones</td>\n",
       "      <td>03/05/2002</td>\n",
       "      <td>-72.6983</td>\n",
       "      <td>-42.4087</td>\n",
       "      <td>WGS 84- UTM 18 S</td>\n",
       "      <td>-</td>\n",
       "    </tr>\n",
       "    <tr>\n",
       "      <th>3</th>\n",
       "      <td>Los Lagos</td>\n",
       "      <td>Río Negro</td>\n",
       "      <td>Deslizamiento</td>\n",
       "      <td>Precipitaciones</td>\n",
       "      <td>09/08/2002</td>\n",
       "      <td>-73.7889</td>\n",
       "      <td>-40.7083</td>\n",
       "      <td>WGS 84- UTM 18 S</td>\n",
       "      <td>6</td>\n",
       "    </tr>\n",
       "    <tr>\n",
       "      <th>4</th>\n",
       "      <td>Los Lagos</td>\n",
       "      <td>Osorno</td>\n",
       "      <td>Deslizamiento</td>\n",
       "      <td>Precipitaciones</td>\n",
       "      <td>22/08/2007</td>\n",
       "      <td>-73.6047</td>\n",
       "      <td>-40.5750</td>\n",
       "      <td>WGS 84- UTM 18 S</td>\n",
       "      <td>126</td>\n",
       "    </tr>\n",
       "    <tr>\n",
       "      <th>...</th>\n",
       "      <td>...</td>\n",
       "      <td>...</td>\n",
       "      <td>...</td>\n",
       "      <td>...</td>\n",
       "      <td>...</td>\n",
       "      <td>...</td>\n",
       "      <td>...</td>\n",
       "      <td>...</td>\n",
       "      <td>...</td>\n",
       "    </tr>\n",
       "    <tr>\n",
       "      <th>1242</th>\n",
       "      <td>Biobío</td>\n",
       "      <td>Tomé</td>\n",
       "      <td>Deslizamiento</td>\n",
       "      <td>Precipitaciones</td>\n",
       "      <td>11/07/2006</td>\n",
       "      <td>-72.9781</td>\n",
       "      <td>-36.5932</td>\n",
       "      <td>WGS 84/ UTM 18 S</td>\n",
       "      <td>40</td>\n",
       "    </tr>\n",
       "    <tr>\n",
       "      <th>1243</th>\n",
       "      <td>Biobío</td>\n",
       "      <td>Talcahuano</td>\n",
       "      <td>Caída</td>\n",
       "      <td>Precipitaciones</td>\n",
       "      <td>15/06/1991</td>\n",
       "      <td>-73.1032</td>\n",
       "      <td>-36.7543</td>\n",
       "      <td>WGS 84/ UTM 18 S</td>\n",
       "      <td>-</td>\n",
       "    </tr>\n",
       "    <tr>\n",
       "      <th>1244</th>\n",
       "      <td>Biobío</td>\n",
       "      <td>Talcahuano</td>\n",
       "      <td>Caída</td>\n",
       "      <td>Precipitaciones</td>\n",
       "      <td>16/06/1991</td>\n",
       "      <td>-73.1032</td>\n",
       "      <td>-36.7543</td>\n",
       "      <td>WGS 84/ UTM 18 S</td>\n",
       "      <td>-</td>\n",
       "    </tr>\n",
       "    <tr>\n",
       "      <th>1245</th>\n",
       "      <td>Biobío</td>\n",
       "      <td>Talcahuano</td>\n",
       "      <td>Caída</td>\n",
       "      <td>Precipitaciones</td>\n",
       "      <td>17/06/1991</td>\n",
       "      <td>-73.1032</td>\n",
       "      <td>-36.7543</td>\n",
       "      <td>WGS 84/ UTM 18 S</td>\n",
       "      <td>-</td>\n",
       "    </tr>\n",
       "    <tr>\n",
       "      <th>1246</th>\n",
       "      <td>Biobío</td>\n",
       "      <td>Talcahuano</td>\n",
       "      <td>Caída</td>\n",
       "      <td>Precipitaciones</td>\n",
       "      <td>18/06/1991</td>\n",
       "      <td>-73.1032</td>\n",
       "      <td>-36.7543</td>\n",
       "      <td>WGS 84/ UTM 18 S</td>\n",
       "      <td>-</td>\n",
       "    </tr>\n",
       "  </tbody>\n",
       "</table>\n",
       "<p>1247 rows × 9 columns</p>\n",
       "</div>"
      ],
      "text/plain": [
       "         Región      Comuna Tipo Remoción en masa Factor desencadenante  \\\n",
       "0     Los Lagos      Castro                 Flujo       Precipitaciones   \n",
       "1     Los Lagos      Castro                 Flujo       Precipitaciones   \n",
       "2     Los Lagos     Chaitén         Deslizamiento       Precipitaciones   \n",
       "3     Los Lagos   Río Negro         Deslizamiento       Precipitaciones   \n",
       "4     Los Lagos      Osorno         Deslizamiento       Precipitaciones   \n",
       "...         ...         ...                   ...                   ...   \n",
       "1242     Biobío        Tomé         Deslizamiento       Precipitaciones   \n",
       "1243     Biobío  Talcahuano                 Caída       Precipitaciones   \n",
       "1244     Biobío  Talcahuano                 Caída       Precipitaciones   \n",
       "1245     Biobío  Talcahuano                 Caída       Precipitaciones   \n",
       "1246     Biobío  Talcahuano                 Caída       Precipitaciones   \n",
       "\n",
       "     Fecha Evento  Longitud  Latitud Sistema Georeferencia Cota (m.s.n.m)  \n",
       "0      07/03/2001  -73.7855 -42.4686      WGS 84- UTM 18 S              -  \n",
       "1      09/03/2001  -73.7855 -42.4686      WGS 84- UTM 18 S              -  \n",
       "2      03/05/2002  -72.6983 -42.4087      WGS 84- UTM 18 S              -  \n",
       "3      09/08/2002  -73.7889 -40.7083      WGS 84- UTM 18 S              6  \n",
       "4      22/08/2007  -73.6047 -40.5750      WGS 84- UTM 18 S            126  \n",
       "...           ...       ...      ...                   ...            ...  \n",
       "1242   11/07/2006  -72.9781 -36.5932      WGS 84/ UTM 18 S             40  \n",
       "1243   15/06/1991  -73.1032 -36.7543      WGS 84/ UTM 18 S              -  \n",
       "1244   16/06/1991  -73.1032 -36.7543      WGS 84/ UTM 18 S              -  \n",
       "1245   17/06/1991  -73.1032 -36.7543      WGS 84/ UTM 18 S              -  \n",
       "1246   18/06/1991  -73.1032 -36.7543      WGS 84/ UTM 18 S              -  \n",
       "\n",
       "[1247 rows x 9 columns]"
      ]
     },
     "execution_count": 31,
     "metadata": {},
     "output_type": "execute_result"
    }
   ],
   "source": [
    "#x: longitud y: latitud\n",
    "x = -72.6983\t\n",
    "y = -42.4087\n",
    "df"
   ]
  },
  {
   "cell_type": "markdown",
   "metadata": {},
   "source": []
  },
  {
   "cell_type": "code",
   "execution_count": 32,
   "metadata": {},
   "outputs": [
    {
     "data": {
      "text/plain": [
       "'C:\\\\Users\\\\ivo\\\\Desktop\\\\mlabbe\\\\script_geotiff_data_extraction\\\\ROSETTA_MEAN\\\\theta_r_15-30cm.tif'"
      ]
     },
     "execution_count": 32,
     "metadata": {},
     "output_type": "execute_result"
    }
   ],
   "source": [
    "path"
   ]
  },
  {
   "cell_type": "code",
   "execution_count": 41,
   "metadata": {},
   "outputs": [
    {
     "data": {
      "text/plain": [
       "['PIRange-002',\n",
       " 'ROSETTA_MEAN',\n",
       " 'ROSETTA_SD',\n",
       " 'SoilMaps_MEAN',\n",
       " 'C:\\\\Users\\\\ivo\\\\Desktop\\\\mlabbe\\\\script_geotiff_data_extraction\\\\SoilMaps_MEAN',\n",
       " 'Textural_Classes']"
      ]
     },
     "execution_count": 41,
     "metadata": {},
     "output_type": "execute_result"
    }
   ],
   "source": [
    "path = r'ROSETTA_MEAN/theta_r_15-30cm.tif'\n",
    "\n",
    "path_PIRange = r'PIRange-002'\n",
    "path_rosetta_mean = r'ROSETTA_MEAN'\n",
    "path_rosetta_sd = r'ROSETTA_SD'\n",
    "path_SoilMaps_mean = r'SoilMaps_MEAN'\n",
    "#path_SoilMaps_mean_2 = r'SoilMaps_MEAN'\n",
    "path_Textural_Classes = r'Textural_Classes'\n",
    "all_paths = [path_PIRange, path_rosetta_mean, path_rosetta_sd, path_SoilMaps_mean, path_SoilMaps_mean_2, path_Textural_Classes]\n",
    "all_paths"
   ]
  },
  {
   "cell_type": "code",
   "execution_count": 53,
   "metadata": {},
   "outputs": [
    {
     "data": {
      "text/plain": [
       "['PIRange_Bulkd.0-5cm.tif',\n",
       " 'PIRange_Bulkd.100-200cm.tif',\n",
       " 'PIRange_Bulkd.15-30cm.tif']"
      ]
     },
     "execution_count": 53,
     "metadata": {},
     "output_type": "execute_result"
    }
   ],
   "source": [
    "def archivos_extraccion(paths):\n",
    "    archivos = []\n",
    "    for path in paths:\n",
    "        for elemento in os.listdir(path):\n",
    "            ruta_archivo = os.path.join(path, elemento)\n",
    "            if os.path.isfile(ruta_archivo) and  ruta_archivo.lower().endswith('.tif'):\n",
    "                archivos.append(elemento)\n",
    "    return archivos\n",
    "\n",
    "archivos = archivos_extraccion(all_paths)\n",
    "archivos[0:3]"
   ]
  },
  {
   "cell_type": "code",
   "execution_count": 36,
   "metadata": {},
   "outputs": [
    {
     "data": {
      "text/plain": [
       "\"with rasterio.open(path) as dataset:\\n    mask = dataset.dataset_mask()\\n    for geom, val in rasterio.features.shapes(\\n        mask, transform=dataset.transform):\\n        geom = rasterio.warp.transform_geom(dataset.crs, 'EPSG:4326', geom, precision=6)\\n        \\n    print(geom)\""
      ]
     },
     "execution_count": 36,
     "metadata": {},
     "output_type": "execute_result"
    }
   ],
   "source": [
    "\"\"\"with rasterio.open(path) as dataset:\n",
    "    mask = dataset.dataset_mask()\n",
    "    for geom, val in rasterio.features.shapes(\n",
    "        mask, transform=dataset.transform):\n",
    "        geom = rasterio.warp.transform_geom(dataset.crs, 'EPSG:4326', geom, precision=6)\n",
    "        \n",
    "    print(geom)\"\"\""
   ]
  },
  {
   "cell_type": "code",
   "execution_count": 51,
   "metadata": {},
   "outputs": [
    {
     "name": "stdout",
     "output_type": "stream",
     "text": [
      "-72.6983 -42.4087\n",
      "25090 3297\n",
      "0.087\n"
     ]
    }
   ],
   "source": [
    "#funcions de lectura de tif\n",
    "#x_,y_ = dataset_.index(-71.838400,-39.554800)\n",
    "path = r'ROSETTA_MEAN/theta_r_15-30cm.tif'\n",
    "dataset_ = rasterio.open(path)\n",
    "x_,y_ = dataset_.index(x,y)\n",
    "print(x,y)\n",
    "print(x_,y_)\n",
    "#x: longitud y: latitud\n",
    "banda=dataset_.read(1)\n",
    "\n",
    "print(banda[x_][y_])"
   ]
  },
  {
   "cell_type": "code",
   "execution_count": 54,
   "metadata": {},
   "outputs": [
    {
     "ename": "SyntaxError",
     "evalue": "unexpected EOF while parsing (1888948733.py, line 1)",
     "output_type": "error",
     "traceback": [
      "\u001b[1;36m  Cell \u001b[1;32mIn[54], line 1\u001b[1;36m\u001b[0m\n\u001b[1;33m    def tif_extraccion(archivos):\u001b[0m\n\u001b[1;37m                                 ^\u001b[0m\n\u001b[1;31mSyntaxError\u001b[0m\u001b[1;31m:\u001b[0m unexpected EOF while parsing\n"
     ]
    }
   ],
   "source": [
    "def tif_extraccion(archivos):\n",
    "    "
   ]
  },
  {
   "cell_type": "code",
   "execution_count": 52,
   "metadata": {},
   "outputs": [
    {
     "data": {
      "text/html": [
       "<div>\n",
       "<style scoped>\n",
       "    .dataframe tbody tr th:only-of-type {\n",
       "        vertical-align: middle;\n",
       "    }\n",
       "\n",
       "    .dataframe tbody tr th {\n",
       "        vertical-align: top;\n",
       "    }\n",
       "\n",
       "    .dataframe thead th {\n",
       "        text-align: right;\n",
       "    }\n",
       "</style>\n",
       "<table border=\"1\" class=\"dataframe\">\n",
       "  <thead>\n",
       "    <tr style=\"text-align: right;\">\n",
       "      <th></th>\n",
       "      <th>Longitud</th>\n",
       "      <th>Latitud</th>\n",
       "    </tr>\n",
       "  </thead>\n",
       "  <tbody>\n",
       "    <tr>\n",
       "      <th>0</th>\n",
       "      <td>-73.7855</td>\n",
       "      <td>-42.4686</td>\n",
       "    </tr>\n",
       "    <tr>\n",
       "      <th>1</th>\n",
       "      <td>-73.7855</td>\n",
       "      <td>-42.4686</td>\n",
       "    </tr>\n",
       "    <tr>\n",
       "      <th>2</th>\n",
       "      <td>-72.6983</td>\n",
       "      <td>-42.4087</td>\n",
       "    </tr>\n",
       "    <tr>\n",
       "      <th>3</th>\n",
       "      <td>-73.7889</td>\n",
       "      <td>-40.7083</td>\n",
       "    </tr>\n",
       "    <tr>\n",
       "      <th>4</th>\n",
       "      <td>-73.6047</td>\n",
       "      <td>-40.5750</td>\n",
       "    </tr>\n",
       "    <tr>\n",
       "      <th>...</th>\n",
       "      <td>...</td>\n",
       "      <td>...</td>\n",
       "    </tr>\n",
       "    <tr>\n",
       "      <th>1242</th>\n",
       "      <td>-72.9781</td>\n",
       "      <td>-36.5932</td>\n",
       "    </tr>\n",
       "    <tr>\n",
       "      <th>1243</th>\n",
       "      <td>-73.1032</td>\n",
       "      <td>-36.7543</td>\n",
       "    </tr>\n",
       "    <tr>\n",
       "      <th>1244</th>\n",
       "      <td>-73.1032</td>\n",
       "      <td>-36.7543</td>\n",
       "    </tr>\n",
       "    <tr>\n",
       "      <th>1245</th>\n",
       "      <td>-73.1032</td>\n",
       "      <td>-36.7543</td>\n",
       "    </tr>\n",
       "    <tr>\n",
       "      <th>1246</th>\n",
       "      <td>-73.1032</td>\n",
       "      <td>-36.7543</td>\n",
       "    </tr>\n",
       "  </tbody>\n",
       "</table>\n",
       "<p>1247 rows × 2 columns</p>\n",
       "</div>"
      ],
      "text/plain": [
       "      Longitud  Latitud\n",
       "0     -73.7855 -42.4686\n",
       "1     -73.7855 -42.4686\n",
       "2     -72.6983 -42.4087\n",
       "3     -73.7889 -40.7083\n",
       "4     -73.6047 -40.5750\n",
       "...        ...      ...\n",
       "1242  -72.9781 -36.5932\n",
       "1243  -73.1032 -36.7543\n",
       "1244  -73.1032 -36.7543\n",
       "1245  -73.1032 -36.7543\n",
       "1246  -73.1032 -36.7543\n",
       "\n",
       "[1247 rows x 2 columns]"
      ]
     },
     "execution_count": 52,
     "metadata": {},
     "output_type": "execute_result"
    }
   ],
   "source": [
    "new_df = pd.concat([df.Longitud, df.Latitud], axis = 1)\n",
    "new_df"
   ]
  },
  {
   "cell_type": "code",
   "execution_count": null,
   "metadata": {},
   "outputs": [],
   "source": []
  }
 ],
 "metadata": {
  "kernelspec": {
   "display_name": "geotiff",
   "language": "python",
   "name": "python3"
  },
  "language_info": {
   "codemirror_mode": {
    "name": "ipython",
    "version": 3
   },
   "file_extension": ".py",
   "mimetype": "text/x-python",
   "name": "python",
   "nbconvert_exporter": "python",
   "pygments_lexer": "ipython3",
   "version": "3.8.0"
  }
 },
 "nbformat": 4,
 "nbformat_minor": 2
}
