{
 "cells": [
  {
   "cell_type": "code",
   "execution_count": 1049,
   "metadata": {},
   "outputs": [],
   "source": [
    "import pandas as pd\n",
    "import matplotlib.pyplot as plt\n",
    "import seaborn as sns"
   ]
  },
  {
   "cell_type": "code",
   "execution_count": 1050,
   "metadata": {},
   "outputs": [],
   "source": [
    "pirange_1 = pd.read_csv('PIRange_1')\n",
    "rosetta_mean_1 = pd.read_csv('rosetta_mean_1')\n",
    "soilmaps_mean_1 = pd.read_csv('soilmaps_mean_1')\n",
    "textural_classes_1 = pd.read_csv('textural_classes_1')\n",
    "db = pd.read_csv('New_DB_2.csv')"
   ]
  },
  {
   "cell_type": "code",
   "execution_count": 1051,
   "metadata": {},
   "outputs": [
    {
     "data": {
      "text/plain": [
       "\"db = pd.read_csv('New_DB_2.csv')\\ndb.drop_duplicates(subset=['Latitud', 'Longitud', 'Fecha Evento'])\\ndb = db[db['Valor']==1]\""
      ]
     },
     "execution_count": 1051,
     "metadata": {},
     "output_type": "execute_result"
    }
   ],
   "source": [
    "\"\"\"db = pd.read_csv('New_DB_2.csv')\n",
    "db.drop_duplicates(subset=['Latitud', 'Longitud', 'Fecha Evento'])\n",
    "db = db[db['Valor']==1]\"\"\"\n"
   ]
  },
  {
   "cell_type": "code",
   "execution_count": 1052,
   "metadata": {},
   "outputs": [],
   "source": [
    "textural_classes_1 = textural_classes_1.drop(columns=['Unnamed: 0.1', 'Unnamed: 0'])\n",
    "rosetta_mean_1 = rosetta_mean_1.drop(columns=['Unnamed: 0.1', 'Unnamed: 0'])\n",
    "soilmaps_mean_1 = soilmaps_mean_1.drop(columns=['Unnamed: 0.1', 'Unnamed: 0'])\n",
    "pirange_1 = pirange_1.drop(columns=['Unnamed: 0.1', 'Unnamed: 0'])"
   ]
  },
  {
   "cell_type": "code",
   "execution_count": 1053,
   "metadata": {},
   "outputs": [],
   "source": [
    "cols_latlon = ['Latitud', 'Longitud']\n",
    "rosetta_mean_1 = rosetta_mean_1.drop(columns=cols_latlon)\n",
    "pirange_1 = pirange_1.drop(columns=cols_latlon)\n",
    "textural_classes_1 = textural_classes_1.drop(columns=cols_latlon)"
   ]
  },
  {
   "cell_type": "code",
   "execution_count": 1054,
   "metadata": {},
   "outputs": [],
   "source": [
    "data_0 = pd.read_csv('tif_data_0_01')\n",
    "data_0['Valor'] = 0\n",
    "data_1 = pd.concat([soilmaps_mean_1, rosetta_mean_1, pirange_1, textural_classes_1], axis=1)\n",
    "data_1['Valor'] = 1"
   ]
  },
  {
   "cell_type": "code",
   "execution_count": 1055,
   "metadata": {},
   "outputs": [
    {
     "name": "stdout",
     "output_type": "stream",
     "text": [
      "Columnas en data_0 pero no en data_1: {'Cota (m.s.n.m)', 'theta_r.15-30cm.tif', 'n.30-60cm.tif', 'ksat.30-60cm.tif', 'n.5-15cm.tif', 'theta_s.5-15cm.tif', 'theta_r.30-60cm.tif', 'ksat.15-30cm.tif', 'Fecha Evento', 'theta_s.0-5cm.tif', 'alpha.0-5cm.tif', 'ksat.5-15cm.tif', 'Sistema Georeferencia', 'Comuna', 'Región', 'theta_s.60-100cm.tif', 'theta_r.0-5cm.tif', 'n.0-5cm.tif', 'ksat.0-5cm.tif', 'Factor desencadenante', 'alpha.30-60cm.tif', 'ksat.60-100cm.tif', 'theta_r.100-200cm.tif', 'alpha.60-100cm.tif', 'theta_s.15-30cm.tif', 'Tipo Remoción en masa', 'alpha.5-15cm.tif', 'ksat.100-200cm.tif', 'theta_r.5-15cm.tif', 'theta_s.100-200cm.tif', 'n.15-30cm.tif', 'n.100-200cm.tif', 'theta_r.60-100cm.tif', 'theta_s.30-60cm.tif', 'n.60-100cm.tif', 'alpha.15-30cm.tif', 'Unnamed: 0', 'alpha.100-200cm.tif'}\n",
      "Columnas en data_1 pero no en data_0: set()\n"
     ]
    }
   ],
   "source": [
    "columns_data_0 = set(data_0.columns)\n",
    "columns_data_1 = set(data_1.columns)\n",
    "\n",
    "# Columnas que están en data_0 pero no en data_1\n",
    "columns_only_in_data_0 = columns_data_0 - columns_data_1\n",
    "# Columnas que están en data_1 pero no en data_0\n",
    "columns_only_in_data_1 = columns_data_1 - columns_data_0\n",
    "\n",
    "print(\"Columnas en data_0 pero no en data_1:\", columns_only_in_data_0)\n",
    "print(\"Columnas en data_1 pero no en data_0:\", columns_only_in_data_1)"
   ]
  },
  {
   "cell_type": "code",
   "execution_count": 1056,
   "metadata": {},
   "outputs": [],
   "source": [
    "data_0 = data_0.drop(columns=['Unnamed: 0'])"
   ]
  },
  {
   "cell_type": "code",
   "execution_count": 1057,
   "metadata": {},
   "outputs": [
    {
     "name": "stdout",
     "output_type": "stream",
     "text": [
      "Luego de drop duplicates: (1247, 143)\n",
      "\n",
      "Luego de drop duplicates: (1132, 143)\n"
     ]
    }
   ],
   "source": [
    "print(f'Luego de drop duplicates: {data_0.shape}\\n')\n",
    "data_0 = data_0.drop_duplicates()\n",
    "print(f'Luego de drop duplicates: {data_0.shape}')"
   ]
  },
  {
   "cell_type": "code",
   "execution_count": 1058,
   "metadata": {},
   "outputs": [
    {
     "name": "stdout",
     "output_type": "stream",
     "text": [
      "Luego de drop duplicates: (458, 106)\n",
      "\n",
      "Luego de drop duplicates: (420, 106)\n"
     ]
    }
   ],
   "source": [
    "print(f'Luego de drop duplicates: {data_1.shape}\\n')\n",
    "data_1 = data_1.drop_duplicates()\n",
    "print(f'Luego de drop duplicates: {data_1.shape}')"
   ]
  },
  {
   "cell_type": "code",
   "execution_count": 1059,
   "metadata": {},
   "outputs": [
    {
     "data": {
      "text/plain": [
       "(533, 17)"
      ]
     },
     "execution_count": 1059,
     "metadata": {},
     "output_type": "execute_result"
    }
   ],
   "source": [
    "db_1 = db[db['Valor'] == 1]\n",
    "db_0 = db[db['Valor'] == 0]\n",
    "db_0.shape"
   ]
  },
  {
   "cell_type": "code",
   "execution_count": 1060,
   "metadata": {},
   "outputs": [],
   "source": [
    "data_0 = pd.merge(data_0, db_0, on=['Latitud', 'Longitud', 'Valor', 'Fecha Evento'], how='inner')\n",
    "data_1 = pd.merge(data_1, db_1, on=['Latitud', 'Longitud', 'Valor'], how='inner')"
   ]
  },
  {
   "cell_type": "code",
   "execution_count": 1061,
   "metadata": {},
   "outputs": [
    {
     "data": {
      "text/plain": [
       "(156, 120)"
      ]
     },
     "execution_count": 1061,
     "metadata": {},
     "output_type": "execute_result"
    }
   ],
   "source": [
    "len(data_0.columns), len(data_1.columns)"
   ]
  },
  {
   "cell_type": "code",
   "execution_count": 1062,
   "metadata": {},
   "outputs": [],
   "source": [
    "def rename_columns(df):\n",
    "    # Crear una lista con los nombres de las columnas renombradas\n",
    "    new_columns = []\n",
    "    for col in df.columns:\n",
    "        if col.endswith('_x') or col.endswith('_y'):\n",
    "            new_columns.append(col[:-2])\n",
    "        else:\n",
    "            new_columns.append(col)\n",
    "    \n",
    "    # Renombrar las columnas del DataFrame\n",
    "    df.columns = new_columns\n",
    "\n",
    "    return df"
   ]
  },
  {
   "cell_type": "code",
   "execution_count": 1063,
   "metadata": {},
   "outputs": [
    {
     "name": "stdout",
     "output_type": "stream",
     "text": [
      "(1001, 156)\n"
     ]
    }
   ],
   "source": [
    "data_0 = rename_columns(data_0)\n",
    "data_1 = rename_columns(data_1)\n",
    "print(data_0.shape)"
   ]
  },
  {
   "cell_type": "code",
   "execution_count": 1064,
   "metadata": {},
   "outputs": [
    {
     "data": {
      "text/html": [
       "<div>\n",
       "<style scoped>\n",
       "    .dataframe tbody tr th:only-of-type {\n",
       "        vertical-align: middle;\n",
       "    }\n",
       "\n",
       "    .dataframe tbody tr th {\n",
       "        vertical-align: top;\n",
       "    }\n",
       "\n",
       "    .dataframe thead th {\n",
       "        text-align: right;\n",
       "    }\n",
       "</style>\n",
       "<table border=\"1\" class=\"dataframe\">\n",
       "  <thead>\n",
       "    <tr style=\"text-align: right;\">\n",
       "      <th></th>\n",
       "      <th>Región</th>\n",
       "      <th>Comuna</th>\n",
       "      <th>Factor desencadenante</th>\n",
       "      <th>Longitud</th>\n",
       "      <th>Latitud</th>\n",
       "      <th>Sistema Georeferencia</th>\n",
       "      <th>Cota (m.s.n.m)</th>\n",
       "      <th>PP</th>\n",
       "      <th>valor_humedad_suelo1</th>\n",
       "      <th>valor_humedad_suelo2</th>\n",
       "      <th>valor_humedad_suelo3</th>\n",
       "      <th>valor_humedad_suelo4</th>\n",
       "      <th>Fecha Evento</th>\n",
       "      <th>Tipo Remoción en masa</th>\n",
       "      <th>Unnamed: 0</th>\n",
       "      <th>Valor</th>\n",
       "      <th>slope</th>\n",
       "    </tr>\n",
       "  </thead>\n",
       "  <tbody>\n",
       "    <tr>\n",
       "      <th>0</th>\n",
       "      <td>Los Lagos</td>\n",
       "      <td>Castro</td>\n",
       "      <td>Precipitaciones</td>\n",
       "      <td>-73.7855</td>\n",
       "      <td>-42.4686</td>\n",
       "      <td>WGS 84- UTM 18 S</td>\n",
       "      <td>-</td>\n",
       "      <td>11.358299</td>\n",
       "      <td>0.460907</td>\n",
       "      <td>0.417099</td>\n",
       "      <td>0.387939</td>\n",
       "      <td>0.410934</td>\n",
       "      <td>07/03/2001</td>\n",
       "      <td>Flujo</td>\n",
       "      <td>0.0</td>\n",
       "      <td>1.0</td>\n",
       "      <td>37.616885</td>\n",
       "    </tr>\n",
       "    <tr>\n",
       "      <th>1</th>\n",
       "      <td>Los Lagos</td>\n",
       "      <td>Castro</td>\n",
       "      <td>Precipitaciones</td>\n",
       "      <td>-73.7855</td>\n",
       "      <td>-42.4686</td>\n",
       "      <td>WGS 84- UTM 18 S</td>\n",
       "      <td>-</td>\n",
       "      <td>282.989359</td>\n",
       "      <td>0.467758</td>\n",
       "      <td>0.467758</td>\n",
       "      <td>0.466522</td>\n",
       "      <td>0.425278</td>\n",
       "      <td>09/03/2001</td>\n",
       "      <td>Flujo</td>\n",
       "      <td>1.0</td>\n",
       "      <td>1.0</td>\n",
       "      <td>37.616885</td>\n",
       "    </tr>\n",
       "    <tr>\n",
       "      <th>2</th>\n",
       "      <td>Los Lagos</td>\n",
       "      <td>Chaitén</td>\n",
       "      <td>Precipitaciones</td>\n",
       "      <td>-72.6983</td>\n",
       "      <td>-42.4087</td>\n",
       "      <td>WGS 84- UTM 18 S</td>\n",
       "      <td>-</td>\n",
       "      <td>83.771901</td>\n",
       "      <td>0.436966</td>\n",
       "      <td>0.437408</td>\n",
       "      <td>0.438400</td>\n",
       "      <td>0.438980</td>\n",
       "      <td>03/05/2002</td>\n",
       "      <td>Deslizamiento</td>\n",
       "      <td>2.0</td>\n",
       "      <td>1.0</td>\n",
       "      <td>58.718334</td>\n",
       "    </tr>\n",
       "    <tr>\n",
       "      <th>3</th>\n",
       "      <td>Los Lagos</td>\n",
       "      <td>Río Negro</td>\n",
       "      <td>Precipitaciones</td>\n",
       "      <td>-73.7889</td>\n",
       "      <td>-40.7083</td>\n",
       "      <td>WGS 84- UTM 18 S</td>\n",
       "      <td>6</td>\n",
       "      <td>101.366892</td>\n",
       "      <td>0.515045</td>\n",
       "      <td>0.513718</td>\n",
       "      <td>0.519211</td>\n",
       "      <td>0.517426</td>\n",
       "      <td>09/08/2002</td>\n",
       "      <td>Deslizamiento</td>\n",
       "      <td>3.0</td>\n",
       "      <td>1.0</td>\n",
       "      <td>40.098548</td>\n",
       "    </tr>\n",
       "    <tr>\n",
       "      <th>4</th>\n",
       "      <td>Los Lagos</td>\n",
       "      <td>Osorno</td>\n",
       "      <td>Precipitaciones</td>\n",
       "      <td>-73.6047</td>\n",
       "      <td>-40.5750</td>\n",
       "      <td>WGS 84- UTM 18 S</td>\n",
       "      <td>126</td>\n",
       "      <td>0.000000</td>\n",
       "      <td>0.478531</td>\n",
       "      <td>0.480499</td>\n",
       "      <td>0.477859</td>\n",
       "      <td>0.500580</td>\n",
       "      <td>22/08/2007</td>\n",
       "      <td>Deslizamiento</td>\n",
       "      <td>4.0</td>\n",
       "      <td>1.0</td>\n",
       "      <td>42.977906</td>\n",
       "    </tr>\n",
       "    <tr>\n",
       "      <th>...</th>\n",
       "      <td>...</td>\n",
       "      <td>...</td>\n",
       "      <td>...</td>\n",
       "      <td>...</td>\n",
       "      <td>...</td>\n",
       "      <td>...</td>\n",
       "      <td>...</td>\n",
       "      <td>...</td>\n",
       "      <td>...</td>\n",
       "      <td>...</td>\n",
       "      <td>...</td>\n",
       "      <td>...</td>\n",
       "      <td>...</td>\n",
       "      <td>...</td>\n",
       "      <td>...</td>\n",
       "      <td>...</td>\n",
       "      <td>...</td>\n",
       "    </tr>\n",
       "    <tr>\n",
       "      <th>1061</th>\n",
       "      <td>Biobío</td>\n",
       "      <td>Chiguayante</td>\n",
       "      <td>Precipitaciones</td>\n",
       "      <td>-73.0067</td>\n",
       "      <td>-36.9095</td>\n",
       "      <td>WGS 84/ UTM 18 S</td>\n",
       "      <td>57</td>\n",
       "      <td>3.830269</td>\n",
       "      <td>0.471466</td>\n",
       "      <td>0.471237</td>\n",
       "      <td>0.468872</td>\n",
       "      <td>0.434387</td>\n",
       "      <td>09/07/2006</td>\n",
       "      <td>Flujo</td>\n",
       "      <td>2485.0</td>\n",
       "      <td>0.0</td>\n",
       "      <td>48.232759</td>\n",
       "    </tr>\n",
       "    <tr>\n",
       "      <th>1062</th>\n",
       "      <td>Biobío</td>\n",
       "      <td>Tomé</td>\n",
       "      <td>Precipitaciones</td>\n",
       "      <td>-72.9681</td>\n",
       "      <td>-36.5832</td>\n",
       "      <td>WGS 84/ UTM 18 S</td>\n",
       "      <td>40</td>\n",
       "      <td>6.876428</td>\n",
       "      <td>NaN</td>\n",
       "      <td>NaN</td>\n",
       "      <td>NaN</td>\n",
       "      <td>NaN</td>\n",
       "      <td>09/07/2006</td>\n",
       "      <td>Deslizamiento</td>\n",
       "      <td>2486.0</td>\n",
       "      <td>0.0</td>\n",
       "      <td>36.674431</td>\n",
       "    </tr>\n",
       "    <tr>\n",
       "      <th>1063</th>\n",
       "      <td>Biobío</td>\n",
       "      <td>Chiguayante</td>\n",
       "      <td>Precipitaciones</td>\n",
       "      <td>-73.0030</td>\n",
       "      <td>-36.9147</td>\n",
       "      <td>WGS 84/ UTM 18 S</td>\n",
       "      <td>50</td>\n",
       "      <td>327.677736</td>\n",
       "      <td>0.471588</td>\n",
       "      <td>0.469116</td>\n",
       "      <td>0.470917</td>\n",
       "      <td>0.454514</td>\n",
       "      <td>11/07/2006</td>\n",
       "      <td>Deslizamiento</td>\n",
       "      <td>2487.0</td>\n",
       "      <td>0.0</td>\n",
       "      <td>48.232759</td>\n",
       "    </tr>\n",
       "    <tr>\n",
       "      <th>1064</th>\n",
       "      <td>Biobío</td>\n",
       "      <td>Chiguayante</td>\n",
       "      <td>Precipitaciones</td>\n",
       "      <td>-73.0067</td>\n",
       "      <td>-36.9095</td>\n",
       "      <td>WGS 84/ UTM 18 S</td>\n",
       "      <td>57</td>\n",
       "      <td>327.677736</td>\n",
       "      <td>0.471588</td>\n",
       "      <td>0.469116</td>\n",
       "      <td>0.470917</td>\n",
       "      <td>0.454514</td>\n",
       "      <td>11/07/2006</td>\n",
       "      <td>Flujo</td>\n",
       "      <td>2488.0</td>\n",
       "      <td>0.0</td>\n",
       "      <td>48.232759</td>\n",
       "    </tr>\n",
       "    <tr>\n",
       "      <th>1065</th>\n",
       "      <td>Biobío</td>\n",
       "      <td>Tomé</td>\n",
       "      <td>Precipitaciones</td>\n",
       "      <td>-72.9681</td>\n",
       "      <td>-36.5832</td>\n",
       "      <td>WGS 84/ UTM 18 S</td>\n",
       "      <td>40</td>\n",
       "      <td>329.135137</td>\n",
       "      <td>NaN</td>\n",
       "      <td>NaN</td>\n",
       "      <td>NaN</td>\n",
       "      <td>NaN</td>\n",
       "      <td>11/07/2006</td>\n",
       "      <td>Deslizamiento</td>\n",
       "      <td>2489.0</td>\n",
       "      <td>0.0</td>\n",
       "      <td>36.674431</td>\n",
       "    </tr>\n",
       "  </tbody>\n",
       "</table>\n",
       "<p>1066 rows × 17 columns</p>\n",
       "</div>"
      ],
      "text/plain": [
       "         Región       Comuna Factor desencadenante  Longitud  Latitud  \\\n",
       "0     Los Lagos       Castro       Precipitaciones  -73.7855 -42.4686   \n",
       "1     Los Lagos       Castro       Precipitaciones  -73.7855 -42.4686   \n",
       "2     Los Lagos      Chaitén       Precipitaciones  -72.6983 -42.4087   \n",
       "3     Los Lagos    Río Negro       Precipitaciones  -73.7889 -40.7083   \n",
       "4     Los Lagos       Osorno       Precipitaciones  -73.6047 -40.5750   \n",
       "...         ...          ...                   ...       ...      ...   \n",
       "1061     Biobío  Chiguayante       Precipitaciones  -73.0067 -36.9095   \n",
       "1062     Biobío         Tomé       Precipitaciones  -72.9681 -36.5832   \n",
       "1063     Biobío  Chiguayante       Precipitaciones  -73.0030 -36.9147   \n",
       "1064     Biobío  Chiguayante       Precipitaciones  -73.0067 -36.9095   \n",
       "1065     Biobío         Tomé       Precipitaciones  -72.9681 -36.5832   \n",
       "\n",
       "     Sistema Georeferencia Cota (m.s.n.m)          PP  valor_humedad_suelo1  \\\n",
       "0         WGS 84- UTM 18 S              -   11.358299              0.460907   \n",
       "1         WGS 84- UTM 18 S              -  282.989359              0.467758   \n",
       "2         WGS 84- UTM 18 S              -   83.771901              0.436966   \n",
       "3         WGS 84- UTM 18 S              6  101.366892              0.515045   \n",
       "4         WGS 84- UTM 18 S            126    0.000000              0.478531   \n",
       "...                    ...            ...         ...                   ...   \n",
       "1061      WGS 84/ UTM 18 S             57    3.830269              0.471466   \n",
       "1062      WGS 84/ UTM 18 S             40    6.876428                   NaN   \n",
       "1063      WGS 84/ UTM 18 S             50  327.677736              0.471588   \n",
       "1064      WGS 84/ UTM 18 S             57  327.677736              0.471588   \n",
       "1065      WGS 84/ UTM 18 S             40  329.135137                   NaN   \n",
       "\n",
       "      valor_humedad_suelo2  valor_humedad_suelo3  valor_humedad_suelo4  \\\n",
       "0                 0.417099              0.387939              0.410934   \n",
       "1                 0.467758              0.466522              0.425278   \n",
       "2                 0.437408              0.438400              0.438980   \n",
       "3                 0.513718              0.519211              0.517426   \n",
       "4                 0.480499              0.477859              0.500580   \n",
       "...                    ...                   ...                   ...   \n",
       "1061              0.471237              0.468872              0.434387   \n",
       "1062                   NaN                   NaN                   NaN   \n",
       "1063              0.469116              0.470917              0.454514   \n",
       "1064              0.469116              0.470917              0.454514   \n",
       "1065                   NaN                   NaN                   NaN   \n",
       "\n",
       "     Fecha Evento Tipo Remoción en masa  Unnamed: 0  Valor      slope  \n",
       "0      07/03/2001                 Flujo         0.0    1.0  37.616885  \n",
       "1      09/03/2001                 Flujo         1.0    1.0  37.616885  \n",
       "2      03/05/2002         Deslizamiento         2.0    1.0  58.718334  \n",
       "3      09/08/2002         Deslizamiento         3.0    1.0  40.098548  \n",
       "4      22/08/2007         Deslizamiento         4.0    1.0  42.977906  \n",
       "...           ...                   ...         ...    ...        ...  \n",
       "1061   09/07/2006                 Flujo      2485.0    0.0  48.232759  \n",
       "1062   09/07/2006         Deslizamiento      2486.0    0.0  36.674431  \n",
       "1063   11/07/2006         Deslizamiento      2487.0    0.0  48.232759  \n",
       "1064   11/07/2006                 Flujo      2488.0    0.0  48.232759  \n",
       "1065   11/07/2006         Deslizamiento      2489.0    0.0  36.674431  \n",
       "\n",
       "[1066 rows x 17 columns]"
      ]
     },
     "execution_count": 1064,
     "metadata": {},
     "output_type": "execute_result"
    }
   ],
   "source": [
    "db"
   ]
  },
  {
   "cell_type": "code",
   "execution_count": 1065,
   "metadata": {},
   "outputs": [
    {
     "name": "stdout",
     "output_type": "stream",
     "text": [
      "(531, 156) (458, 120)\n"
     ]
    }
   ],
   "source": [
    "data_1 = data_1.drop_duplicates()\n",
    "data_0 = data_0.drop_duplicates(subset=['Latitud', 'Longitud', 'Fecha Evento'])\n",
    "print(data_0.shape, data_1.shape)"
   ]
  },
  {
   "cell_type": "code",
   "execution_count": 1066,
   "metadata": {},
   "outputs": [],
   "source": [
    "def getDuplicateColumns(df):\n",
    " \n",
    "    # Create an empty set\n",
    "    duplicateColumnNames = set()\n",
    " \n",
    "    # Iterate through all the columns of dataframe\n",
    "    for x in range(df.shape[1]):\n",
    " \n",
    "        # Take column at xth index.\n",
    "        col = df.iloc[:, x]\n",
    " \n",
    "        # Iterate through all the columns\n",
    "        for y in range(x + 1, df.shape[1]):\n",
    " \n",
    "            # Take column at yth index.\n",
    "            otherCol = df.iloc[:, y]\n",
    " \n",
    "            # Check if two columns at x & y\n",
    "            if col.equals(otherCol):\n",
    "                duplicateColumnNames.add(df.columns.values[y])\n",
    " \n",
    "    return list(duplicateColumnNames)"
   ]
  },
  {
   "cell_type": "code",
   "execution_count": 1067,
   "metadata": {},
   "outputs": [
    {
     "name": "stdout",
     "output_type": "stream",
     "text": [
      "Columnas en común: ['Clay.15-30cm.tif', 'PIRange_Clay.15-30cm.tif', 'Total_AWC_0_200cm.tif', 'Cota (m.s.n.m)', 'alpha_15-30cm.tif', 'alpha_60-100cm.tif', 'n_15-30cm.tif', 'Latitud', 'PIRange_Sand.60-100cm.tif', 'Bulkd.30-60cm.tif', 'alpha_100-200cm.tif', 'ksat_30-60cm.tif', 'PWP.15-30cm.tif', 'Silt.100-200cm.tif', 'PIRange_Bulkd.15-30cm.tif', 'Comuna', 'valor_humedad_suelo3', 'PIRange_Bulkd.60-100cm.tif', 'Tex_Class.100-200cm.tif', 'AWC_0-5cm.tif', 'Bulkd.100-200cm.tif', 'AWC_15-30cm.tif', 'Tex_Class.60-100cm.tif', 'Factor desencadenante', 'ksat_15-30cm.tif', 'Tex_Class.0-5cm.tif', 'Tex_Class.5-15cm.tif', 'Tipo Remoción en masa', 'PWP.60-100cm.tif', 'Silt.15-30cm.tif', 'FC.60-100cm.tif', 'Clay.60-100cm.tif', 'Bulkd.5-15cm.tif', 'Valor', 'Longitud', 'PIRange_Clay.0-5cm.tif', 'ksat_5-15cm.tif', 'FC.100-200cm.tif', 'AvMoist.0-5cm.tif', 'PIRange_Clay.30-60cm.tif', 'Clay.5-15cm.tif', 'theta_r_15-30cm.tif', 'PIRange_Clay.100-200cm.tif', 'PIRange_Sand.100-200cm.tif', 'n_100-200cm.tif', 'Sand.60-100cm.tif', 'theta_r_60-100cm.tif', 'AvMoist.15-30cm.tif', 'Bulkd.0-5cm.tif', 'PWP.5-15cm.tif', 'ksat_100-200cm.tif', 'Silt.60-100cm.tif', 'theta_s_5-15cm.tif', 'AWC_30-60cm.tif', 'AvMoist.60-100cm.tif', 'alpha_30-60cm.tif', 'AvMoist.5-15cm.tif', 'PWP.100-200cm.tif', 'PIRange_Bulkd.0-5cm.tif', 'valor_humedad_suelo2', 'ksat_0-5cm.tif', 'Fecha Evento', 'PIRange_Sand.0-5cm.tif', 'Bulkd.60-100cm.tif', 'Sand.15-30cm.tif', 'PIRange_Bulkd.100-200cm.tif', 'PIRange_Bulkd.30-60cm.tif', 'PIRange_Sand.15-30cm.tif', 'Bulkd.15-30cm.tif', 'ksat_60-100cm.tif', 'Silt.0-5cm.tif', 'theta_s_30-60cm.tif', 'Sand.5-15cm.tif', 'theta_s_100-200cm.tif', 'FC.15-30cm.tif', 'AvMoist.30-60cm.tif', 'Silt.30-60cm.tif', 'PIRange_Bulkd.5-15cm.tif', 'PIRange_Clay.5-15cm.tif', 'PP', 'Silt.5-15cm.tif', 'AWC_5-15cm.tif', 'theta_r_5-15cm.tif', 'slope', 'PWP.0-5cm.tif', 'PIRange_Clay.60-100cm.tif', 'alpha_0-5cm.tif', 'theta_r_30-60cm.tif', 'theta_s_60-100cm.tif', 'Tex_Class.30-60cm.tif', 'AWC_100-200cm.tif', 'alpha_5-15cm.tif', 'n_0-5cm.tif', 'valor_humedad_suelo4', 'theta_r_0-5cm.tif', 'PIRange_Sand.5-15cm.tif', 'PIRange_Sand.30-60cm.tif', 'theta_s_15-30cm.tif', 'Sistema Georeferencia', 'n_5-15cm.tif', 'valor_humedad_suelo1', 'Región', 'Sand.100-200cm.tif', 'Clay.100-200cm.tif', 'theta_r_100-200cm.tif', 'AWC_60-100cm.tif', 'Tex_Class.15-30cm.tif', 'FC.5-15cm.tif', 'AvMoist.100-200cm.tif', 'theta_s_0-5cm.tif', 'Clay.0-5cm.tif', 'Sand.0-5cm.tif', 'n_30-60cm.tif', 'FC.30-60cm.tif', 'FC.0-5cm.tif', 'Clay.30-60cm.tif', 'n_60-100cm.tif', 'PWP.30-60cm.tif', 'Sand.30-60cm.tif', 'Unnamed: 0']\n"
     ]
    }
   ],
   "source": [
    "columns_data_0 = set(data_0.columns)\n",
    "columns_data_1 = set(data_1.columns)\n",
    "\n",
    "# Columnas en común\n",
    "common_columns = columns_data_0 & columns_data_1\n",
    "\n",
    "print(\"Columnas en común:\", list(common_columns))"
   ]
  },
  {
   "cell_type": "code",
   "execution_count": 1068,
   "metadata": {},
   "outputs": [
    {
     "name": "stdout",
     "output_type": "stream",
     "text": [
      "(531, 7) (458, 7)\n"
     ]
    }
   ],
   "source": [
    "cols = ['Latitud', 'Longitud', 'Fecha Evento','PP',  'slope', 'valor_humedad_suelo1', 'Valor']\n",
    "data_1_aux = data_1[cols]\n",
    "data_0_aux = data_0[cols]\n",
    "print(data_0_aux.shape, data_1_aux.shape)"
   ]
  },
  {
   "cell_type": "code",
   "execution_count": 1069,
   "metadata": {},
   "outputs": [
    {
     "data": {
      "text/plain": [
       "108"
      ]
     },
     "execution_count": 1069,
     "metadata": {},
     "output_type": "execute_result"
    }
   ],
   "source": [
    "data_1['alpha_100-200cm.tif'].isna().sum()"
   ]
  },
  {
   "cell_type": "code",
   "execution_count": 1070,
   "metadata": {},
   "outputs": [
    {
     "name": "stdout",
     "output_type": "stream",
     "text": [
      "(531, 22) (458, 17)\n"
     ]
    }
   ],
   "source": [
    "data_0_filtered = data_0.filter(regex='(_100-200cm.tif$|\\\\.100-200cm.tif$)')\n",
    "data_1_filtered = data_1.filter(regex='(_100-200cm.tif$|\\\\.100-200cm.tif$)')\n",
    "print(data_0_filtered.shape, data_1_filtered.shape)"
   ]
  },
  {
   "cell_type": "code",
   "execution_count": 1071,
   "metadata": {},
   "outputs": [],
   "source": [
    "def count_nan_per_column(df):\n",
    "    for column in df.columns:\n",
    "        nan_count = df[column].isna().sum()\n",
    "        print(f'NaN en la columna {column}: {nan_count}')"
   ]
  },
  {
   "cell_type": "code",
   "execution_count": 1072,
   "metadata": {},
   "outputs": [
    {
     "name": "stdout",
     "output_type": "stream",
     "text": [
      "Columnas en data_0 pero no en data_1: {'theta_s.100-200cm.tif', 'n.100-200cm.tif', 'theta_r.100-200cm.tif', 'alpha.100-200cm.tif', 'ksat.100-200cm.tif'}\n",
      "Columnas en data_1 pero no en data_0: set()\n"
     ]
    }
   ],
   "source": [
    "columns_data_0 = set(data_0_filtered.columns)\n",
    "columns_data_1 = set(data_1_filtered.columns)\n",
    "\n",
    "# Columnas que están en data_0 pero no en data_1\n",
    "columns_only_in_data_0 = columns_data_0 - columns_data_1\n",
    "# Columnas que están en data_1 pero no en data_0\n",
    "columns_only_in_data_1 = columns_data_1 - columns_data_0\n",
    "\n",
    "print(\"Columnas en data_0 pero no en data_1:\", columns_only_in_data_0)\n",
    "print(\"Columnas en data_1 pero no en data_0:\", columns_only_in_data_1)"
   ]
  },
  {
   "cell_type": "code",
   "execution_count": 1073,
   "metadata": {},
   "outputs": [],
   "source": [
    "drop_cols = ['theta_s.100-200cm.tif', 'n.100-200cm.tif', 'theta_r.100-200cm.tif', 'alpha.100-200cm.tif', 'ksat.100-200cm.tif']\n",
    "data_0_filtered = data_0_filtered.drop(columns=drop_cols)"
   ]
  },
  {
   "cell_type": "code",
   "execution_count": 1074,
   "metadata": {},
   "outputs": [
    {
     "name": "stdout",
     "output_type": "stream",
     "text": [
      "Columnas en data_0 pero no en data_1: set()\n",
      "Columnas en data_1 pero no en data_0: set()\n"
     ]
    }
   ],
   "source": [
    "columns_data_0 = set(data_0_filtered.columns)\n",
    "columns_data_1 = set(data_1_filtered.columns)\n",
    "\n",
    "# Columnas que están en data_0 pero no en data_1\n",
    "columns_only_in_data_0 = columns_data_0 - columns_data_1\n",
    "# Columnas que están en data_1 pero no en data_0\n",
    "columns_only_in_data_1 = columns_data_1 - columns_data_0\n",
    "\n",
    "print(\"Columnas en data_0 pero no en data_1:\", columns_only_in_data_0)\n",
    "print(\"Columnas en data_1 pero no en data_0:\", columns_only_in_data_1)"
   ]
  },
  {
   "cell_type": "code",
   "execution_count": 1075,
   "metadata": {},
   "outputs": [],
   "source": [
    "data_0_final = pd.concat([data_0_aux, data_0_filtered], axis=1)\n",
    "data_1_final = pd.concat([data_1_aux, data_1_filtered], axis=1)\n"
   ]
  },
  {
   "cell_type": "code",
   "execution_count": 1076,
   "metadata": {},
   "outputs": [
    {
     "data": {
      "text/plain": [
       "((531, 24), (458, 24))"
      ]
     },
     "execution_count": 1076,
     "metadata": {},
     "output_type": "execute_result"
    }
   ],
   "source": [
    "data_0_final.shape, data_1_final.shape"
   ]
  },
  {
   "cell_type": "code",
   "execution_count": 1078,
   "metadata": {},
   "outputs": [],
   "source": [
    "cols = ['Latitud', 'Longitud', 'Fecha Evento',] #'Tex_Class.100-200cm.tif','n_100-200cm.tif',\n",
    "       # 'theta_r_100-200cm.tif', 'theta_s_100-200cm.tif']\n",
    "data_0_final = data_0_final.drop(columns=cols)\n",
    "data_1_final = data_1_final.drop(columns=cols)"
   ]
  },
  {
   "cell_type": "code",
   "execution_count": 1079,
   "metadata": {},
   "outputs": [],
   "source": [
    "data_final = pd.concat([data_0_final, data_1_final])"
   ]
  },
  {
   "cell_type": "code",
   "execution_count": 1080,
   "metadata": {},
   "outputs": [],
   "source": [
    "data_final = data_final.fillna(data_final.mean())"
   ]
  },
  {
   "cell_type": "code",
   "execution_count": 1081,
   "metadata": {},
   "outputs": [
    {
     "data": {
      "text/plain": [
       "Index(['PP', 'slope', 'valor_humedad_suelo1', 'Valor',\n",
       "       'PIRange_Bulkd.100-200cm.tif', 'PIRange_Clay.100-200cm.tif',\n",
       "       'PIRange_Sand.100-200cm.tif', 'alpha_100-200cm.tif',\n",
       "       'AvMoist.100-200cm.tif', 'AWC_100-200cm.tif', 'FC.100-200cm.tif',\n",
       "       'ksat_100-200cm.tif', 'n_100-200cm.tif', 'PWP.100-200cm.tif',\n",
       "       'theta_r_100-200cm.tif', 'theta_s_100-200cm.tif', 'Bulkd.100-200cm.tif',\n",
       "       'Clay.100-200cm.tif', 'Sand.100-200cm.tif', 'Silt.100-200cm.tif',\n",
       "       'Tex_Class.100-200cm.tif'],\n",
       "      dtype='object')"
      ]
     },
     "execution_count": 1081,
     "metadata": {},
     "output_type": "execute_result"
    }
   ],
   "source": [
    "data_final.columns"
   ]
  },
  {
   "cell_type": "code",
   "execution_count": 1082,
   "metadata": {},
   "outputs": [],
   "source": [
    "data_y = data_final['Valor']\n",
    "data = data_final.drop(columns=['Valor'])"
   ]
  },
  {
   "cell_type": "code",
   "execution_count": 1083,
   "metadata": {},
   "outputs": [
    {
     "name": "stdout",
     "output_type": "stream",
     "text": [
      "Numero de entrenamiendo: (791, 20), Numero de test: (198, 20)\n",
      "Fitting 5 folds for each of 50 candidates, totalling 250 fits\n",
      "Precisión de 73.23232323232324\n"
     ]
    }
   ],
   "source": [
    "from sklearn.model_selection import train_test_split\n",
    "from sklearn.model_selection import RandomizedSearchCV\n",
    "from sklearn.metrics import accuracy_score, f1_score\n",
    "from xgboost import XGBClassifier\n",
    "\n",
    "param_grid = {\n",
    "    'max_depth': [3, 5, 7, 10],\n",
    "    'learning_rate': [0.01, 0.1, 0.2, 0.3],\n",
    "    'n_estimators': [100, 200, 300, 500],\n",
    "    'subsample': [0.6, 0.8, 1.0],\n",
    "    'colsample_bytree': [0.6, 0.8, 1.0],\n",
    "    'gamma': [0, 0.1, 0.2, 0.3],\n",
    "    'reg_alpha': [0, 0.1, 0.5, 1.0],\n",
    "    'reg_lambda': [0, 1.0, 10.0]\n",
    "}\n",
    "\n",
    "X_train, X_test, y_train, y_test = train_test_split(data, data_y, test_size=0.2)\n",
    "print(f'Numero de entrenamiendo: {X_train.shape}, Numero de test: {X_test.shape}')\n",
    "model = XGBClassifier()\n",
    "random_search = RandomizedSearchCV(model, param_distributions=param_grid, n_iter=50, scoring='accuracy', cv=5, verbose=1, random_state=42)\n",
    "random_search.fit(X_train, y_train)\n",
    "best_model = random_search.best_estimator_\n",
    "y_pred = best_model.predict(X_test)\n",
    "acc = accuracy_score(y_true=y_test, y_pred=y_pred)\n",
    "print(f'Precisión de {acc*100}')"
   ]
  },
  {
   "cell_type": "code",
   "execution_count": 1084,
   "metadata": {},
   "outputs": [
    {
     "data": {
      "image/png": "[encoded data removed]",
      "text/plain": [
       "<Figure size 800x600 with 1 Axes>"
      ]
     },
     "metadata": {},
     "output_type": "display_data"
    }
   ],
   "source": [
    "from sklearn.metrics import confusion_matrix\n",
    "from sklearn.metrics import ConfusionMatrixDisplay\n",
    "conf_matrix = confusion_matrix(y_true=y_test,y_pred=y_pred)\n",
    "\n",
    "conf_matrix_df = pd.DataFrame(conf_matrix, index=['Actual 0', 'Actual 1'], columns=['Predicted 0', 'Predicted 1'])\n",
    "\n",
    "# Mostrar la matriz de confusión usando seaborn\n",
    "plt.figure(figsize=(8, 6))\n",
    "sns.heatmap(conf_matrix_df, annot=True, fmt='d', cmap='Blues', cbar=False)\n",
    "plt.title('Matriz de Confusión')\n",
    "plt.xlabel('Predicción')\n",
    "plt.ylabel('Etiqueta Verdadera')\n",
    "plt.show()"
   ]
  },
  {
   "cell_type": "code",
   "execution_count": 1085,
   "metadata": {},
   "outputs": [
    {
     "data": {
      "image/png": "[encoded data removed]",
      "text/plain": [
       "<Figure size 1000x600 with 1 Axes>"
      ]
     },
     "metadata": {},
     "output_type": "display_data"
    }
   ],
   "source": [
    "feature_importance = best_model.feature_importances_\n",
    "\n",
    "# Obtener nombres de las características\n",
    "feature_names = data.columns\n",
    "\n",
    "# Crear un gráfico de barras para visualizar la importancia de las características\n",
    "plt.figure(figsize=(10, 6))\n",
    "plt.barh(feature_names, feature_importance)\n",
    "plt.xlabel('Importancia')\n",
    "plt.ylabel('Características')\n",
    "plt.title('Importancia de las características - XGBoost')\n",
    "plt.show()"
   ]
  },
  {
   "cell_type": "code",
   "execution_count": 1086,
   "metadata": {},
   "outputs": [],
   "source": [
    "data_0_final = data_0_final.drop(columns='Valor')\n",
    "data_1_final = data_1_final.drop(columns='Valor')"
   ]
  },
  {
   "cell_type": "code",
   "execution_count": 1087,
   "metadata": {},
   "outputs": [
    {
     "name": "stdout",
     "output_type": "stream",
     "text": [
      "Predicted probabilities: [0.         0.         0.         0.         0.         0.\n",
      " 0.         0.         0.         0.         0.4        0.93333333\n",
      " 0.4        0.4        0.         0.         0.         0.\n",
      " 0.         0.6        0.8        0.         0.74       0.\n",
      " 0.         0.         0.2        0.         0.2        0.2\n",
      " 0.         0.         0.         0.         0.         0.\n",
      " 0.         0.         0.         0.         0.         0.\n",
      " 0.         0.         0.         0.         0.6        0.2\n",
      " 0.         0.         0.         0.         0.         0.\n",
      " 0.         0.         0.         0.         0.         0.\n",
      " 0.         0.         0.         0.         0.         0.\n",
      " 0.         0.         0.         0.         0.         0.\n",
      " 0.         0.8        0.93333333 0.         0.         0.\n",
      " 0.         0.         0.         0.         0.         0.\n",
      " 0.         0.         0.         0.         0.         0.\n",
      " 0.         0.6        0.         0.         0.         0.\n",
      " 0.         0.         0.         0.         0.         0.\n",
      " 0.         0.         0.         0.         0.         0.\n",
      " 0.         0.         0.2        0.         0.         0.\n",
      " 0.         0.         0.         0.6        0.         0.\n",
      " 0.         0.         0.         0.         0.         0.\n",
      " 0.         0.         0.         0.         0.         0.\n",
      " 0.         0.         0.         0.         0.         0.\n",
      " 0.         0.         0.         0.         0.         0.\n",
      " 0.         0.         0.         0.         0.         0.\n",
      " 0.         0.         0.         0.         0.         0.\n",
      " 0.         0.         0.         0.         0.         0.\n",
      " 0.         0.         0.         0.         0.         0.\n",
      " 0.         0.         0.         0.         0.         0.4\n",
      " 0.         0.         0.         0.         0.         0.\n",
      " 0.         0.         0.         0.         0.2        0.\n",
      " 0.         0.4        0.         0.         0.         0.\n",
      " 0.         0.         0.         0.         0.         0.\n",
      " 0.         0.         0.         0.6        0.         0.\n",
      " 0.         0.         0.         0.         0.         0.\n",
      " 0.         0.         0.         0.         0.         0.\n",
      " 0.         0.         0.         0.         0.         0.\n",
      " 0.         0.         0.         0.         0.         0.2\n",
      " 0.         0.         0.         0.         0.         0.\n",
      " 0.         0.         0.         0.         0.8        0.7\n",
      " 0.7        0.4        0.9        0.6        0.8        0.74\n",
      " 0.2        0.7        1.         0.6        0.8        0.2\n",
      " 0.8        0.2        1.         0.2        0.93333333 0.4\n",
      " 0.8        0.8        0.4        0.4        0.6        0.2\n",
      " 0.8        0.4        0.4        0.         0.6        0.4\n",
      " 0.         0.         0.2        1.         0.8        0.4\n",
      " 0.8        0.4        0.2        0.4        0.2        0.6\n",
      " 0.6        0.6        0.2        0.9        0.6        0.6\n",
      " 0.4        0.4        0.6        0.         0.         0.\n",
      " 0.         0.         0.         0.         0.         0.\n",
      " 0.         0.         0.         0.         0.         0.\n",
      " 0.         0.         0.         0.         0.         0.\n",
      " 0.         0.         0.         0.         0.         0.\n",
      " 0.         0.         0.         0.         0.         0.\n",
      " 0.         0.         0.         0.         0.         0.\n",
      " 0.         0.         0.         0.         0.         0.2\n",
      " 0.         0.         0.         0.         0.         0.\n",
      " 0.         0.         0.         0.         0.         0.\n",
      " 0.         0.         0.         0.         0.         0.\n",
      " 0.         0.         0.         0.         0.         0.4\n",
      " 0.         0.         0.         0.         0.         0.\n",
      " 0.         0.         0.         0.         0.         0.\n",
      " 0.         0.         0.6        0.         0.         0.4\n",
      " 0.74       0.2        0.         0.         0.         0.\n",
      " 0.         0.         0.         0.         0.         0.\n",
      " 0.         0.         0.         0.         0.         0.\n",
      " 0.         0.         0.         0.         0.         0.2\n",
      " 0.2        0.         0.         0.         0.         0.\n",
      " 0.         0.         0.         0.         0.         0.\n",
      " 0.         0.         0.         0.         0.         0.\n",
      " 0.         0.         0.         0.         0.         0.\n",
      " 0.         0.         0.2        0.         0.         0.\n",
      " 0.         0.         0.8        0.         0.         0.\n",
      " 0.         0.         0.         0.         0.         0.\n",
      " 0.         0.         0.         0.         0.         0.\n",
      " 0.2        0.         0.         0.         0.         0.\n",
      " 0.2        0.2        0.         0.         0.         0.\n",
      " 0.         0.         0.         0.         0.         0.\n",
      " 0.         0.         0.         0.         0.         0.\n",
      " 0.         0.         0.         0.         0.         0.\n",
      " 0.         0.         0.         0.         0.         0.\n",
      " 0.         1.         0.5        0.5        0.9        0.\n",
      " 0.8        0.6        1.         0.8        0.8        0.\n",
      " 0.         0.         0.         0.         0.         0.\n",
      " 0.         0.         0.         0.         0.         0.\n",
      " 0.         0.         0.         0.         0.         0.\n",
      " 0.         0.         0.         0.         0.         0.\n",
      " 0.         0.         0.         0.         0.         0.\n",
      " 0.         0.         0.        ]\n"
     ]
    }
   ],
   "source": [
    "import numpy as np\n",
    "from sklearn.tree import DecisionTreeClassifier\n",
    "\n",
    "class PUBagging:\n",
    "    def __init__(self, num_iterations=10, sample_ratio=1.0, random_state=42):\n",
    "        self.num_iterations = num_iterations\n",
    "        self.sample_ratio = sample_ratio\n",
    "        self.random_state = random_state\n",
    "        self.classifiers = []\n",
    "        self.probabilities = None\n",
    "\n",
    "    def fit(self, landslide_samples, unlabeled_samples):\n",
    "        np.random.seed(self.random_state)\n",
    "\n",
    "        if isinstance(landslide_samples, np.ndarray):\n",
    "            landslide_samples_array = landslide_samples\n",
    "        else:\n",
    "            landslide_samples_array = landslide_samples.values  # Convert to numpy array if it's a DataFrame\n",
    "\n",
    "        if isinstance(unlabeled_samples, np.ndarray):\n",
    "            unlabeled_samples_array = unlabeled_samples\n",
    "        else:\n",
    "            unlabeled_samples_array = unlabeled_samples.values  # Convert to numpy array if it's a DataFrame\n",
    "\n",
    "        num_samples = len(landslide_samples_array)\n",
    "        num_unlabeled = len(unlabeled_samples_array)\n",
    "\n",
    "        for _ in range(self.num_iterations):\n",
    "            # Step 1: Sample equal number of unlabeled samples as non-landslide samples\n",
    "            non_landslide_indices = np.random.choice(num_unlabeled, size=int(num_samples * self.sample_ratio), replace=False)\n",
    "            non_landslide_samples = unlabeled_samples_array[non_landslide_indices]\n",
    "\n",
    "            # Combine with landslide samples to form training set\n",
    "            X_train = np.vstack((landslide_samples_array, non_landslide_samples))\n",
    "            y_train = np.hstack((np.ones(num_samples), np.zeros(len(non_landslide_samples))))\n",
    "\n",
    "            # Step 2: Train decision tree classifier\n",
    "            clf = DecisionTreeClassifier(random_state=self.random_state)\n",
    "            clf.fit(X_train, y_train)\n",
    "            self.classifiers.append(clf)\n",
    "\n",
    "            # Step 3: Predict probability of being landslide for unlabeled samples\n",
    "            prob_landslide = clf.predict_proba(unlabeled_samples_array)[:, 1]\n",
    "\n",
    "            if self.probabilities is None:\n",
    "                self.probabilities = prob_landslide\n",
    "            else:\n",
    "                self.probabilities += prob_landslide\n",
    "\n",
    "        # Step 4: Average probabilities over iterations\n",
    "        self.probabilities /= self.num_iterations\n",
    "\n",
    "    def predict_proba(self, unlabeled_samples):\n",
    "        if isinstance(unlabeled_samples, np.ndarray):\n",
    "            return self.probabilities\n",
    "        else:\n",
    "            return self.probabilities[:len(unlabeled_samples)]  # Return probabilities for original DataFrame\n",
    "\n",
    "# Example usage:\n",
    "if __name__ == '__main__':\n",
    "    import pandas as pd\n",
    "    \n",
    "    # Example data (replace with your own data)\n",
    "    landslide_samples = data_1_final  # Example landslide samples as DataFrame\n",
    "    unlabeled_samples = data_0_final# Example unlabeled samples as DataFrame\n",
    "\n",
    "    # Create PU Bagging instance\n",
    "    pu_bagging = PUBagging(num_iterations=5, sample_ratio=0.4, random_state=42)\n",
    "\n",
    "    # Fit the model\n",
    "    pu_bagging.fit(landslide_samples, unlabeled_samples)\n",
    "\n",
    "    # Predict probabilities for unlabeled samples\n",
    "    probabilities = pu_bagging.predict_proba(unlabeled_samples)\n",
    "    print(\"Predicted probabilities:\", probabilities)\n"
   ]
  },
  {
   "cell_type": "code",
   "execution_count": 1088,
   "metadata": {},
   "outputs": [
    {
     "name": "stdout",
     "output_type": "stream",
     "text": [
      "Muestras no deslizamiento seleccionadas:\n",
      "              PP      slope  valor_humedad_suelo1  \\\n",
      "0      11.358299  37.616885              0.460907   \n",
      "1     282.989359  37.616885              0.467758   \n",
      "2      88.743122  57.405164              0.436966   \n",
      "3     101.366892  37.844912              0.515045   \n",
      "4       0.000000  42.977906              0.478531   \n",
      "...          ...        ...                   ...   \n",
      "996     3.830269  48.232759              0.471466   \n",
      "997     6.876428  36.674431                   NaN   \n",
      "998   327.677736  48.232759              0.471588   \n",
      "999   327.677736  48.232759              0.471588   \n",
      "1000  329.135137  36.674431                   NaN   \n",
      "\n",
      "      PIRange_Bulkd.100-200cm.tif  PIRange_Clay.100-200cm.tif  \\\n",
      "0                           0.766                   45.120998   \n",
      "1                           0.766                   45.120998   \n",
      "2                           0.692                   35.014999   \n",
      "3                           0.726                   32.932999   \n",
      "4                           0.793                   38.824001   \n",
      "...                           ...                         ...   \n",
      "996                         0.691                   43.445999   \n",
      "997                         0.729                   46.785000   \n",
      "998                         0.695                   43.584000   \n",
      "999                         0.691                   43.445999   \n",
      "1000                        0.729                   46.785000   \n",
      "\n",
      "      PIRange_Sand.100-200cm.tif  alpha_100-200cm.tif  AvMoist.100-200cm.tif  \\\n",
      "0                      47.767002                0.011                  0.188   \n",
      "1                      47.767002                0.011                  0.188   \n",
      "2                      46.630001                0.014                  0.203   \n",
      "3                      47.086002                0.004                  0.273   \n",
      "4                      47.029003                0.009                  0.212   \n",
      "...                          ...                  ...                    ...   \n",
      "996                    46.548996                0.008                  0.210   \n",
      "997                    47.888000                0.010                  0.177   \n",
      "998                    46.601997                0.008                  0.209   \n",
      "999                    46.548996                0.008                  0.210   \n",
      "1000                   47.888000                0.010                  0.177   \n",
      "\n",
      "      AWC_100-200cm.tif  FC.100-200cm.tif  ksat_100-200cm.tif  \\\n",
      "0            188.490997             0.351          113.862000   \n",
      "1            188.490997             0.351          113.862000   \n",
      "2            202.660004             0.350          247.457001   \n",
      "3            272.888000             0.411          322.029999   \n",
      "4            211.626999             0.362          204.011993   \n",
      "...                 ...               ...                 ...   \n",
      "996          210.270996             0.400          106.301003   \n",
      "997          176.968002             0.355           44.862999   \n",
      "998          209.095001             0.392           94.513000   \n",
      "999          210.270996             0.400          106.301003   \n",
      "1000         176.968002             0.355           44.862999   \n",
      "\n",
      "      n_100-200cm.tif  PWP.100-200cm.tif  theta_r_100-200cm.tif  \\\n",
      "0               1.379              0.163                  0.102   \n",
      "1               1.379              0.163                  0.102   \n",
      "2               1.406              0.147                  0.090   \n",
      "3               1.509              0.138                  0.084   \n",
      "4               1.415              0.151                  0.092   \n",
      "...               ...                ...                    ...   \n",
      "996             1.362              0.190                  0.113   \n",
      "997             1.348              0.178                  0.110   \n",
      "998             1.373              0.183                  0.110   \n",
      "999             1.362              0.190                  0.113   \n",
      "1000            1.348              0.178                  0.110   \n",
      "\n",
      "      theta_s_100-200cm.tif  Bulkd.100-200cm.tif  Clay.100-200cm.tif  \\\n",
      "0                     0.526                0.999           24.420000   \n",
      "1                     0.526                0.999           24.420000   \n",
      "2                     0.589                0.727           13.405000   \n",
      "3                     0.545                0.766           11.281000   \n",
      "4                     0.544                0.856           16.903999   \n",
      "...                     ...                  ...                 ...   \n",
      "996                   0.552                0.940           31.889999   \n",
      "997                   0.497                1.164           33.219002   \n",
      "998                   0.539                0.972           30.424999   \n",
      "999                   0.552                0.940           31.889999   \n",
      "1000                  0.497                1.164           33.219002   \n",
      "\n",
      "      Sand.100-200cm.tif  Silt.100-200cm.tif  Tex_Class.100-200cm.tif  \n",
      "0              58.348000           17.232000                      7.0  \n",
      "1              58.348000           17.232000                      7.0  \n",
      "2              76.890999            9.704000                      8.0  \n",
      "3              44.424999           44.293999                      3.0  \n",
      "4              59.883999           23.211000                      8.0  \n",
      "...                  ...                 ...                      ...  \n",
      "996            43.063000           25.047001                      2.0  \n",
      "997            44.988998           21.792000                      2.0  \n",
      "998            42.269001           27.305000                      2.0  \n",
      "999            43.063000           25.047001                      2.0  \n",
      "1000           44.988998           21.792000                      2.0  \n",
      "\n",
      "[480 rows x 20 columns]\n"
     ]
    }
   ],
   "source": [
    "# Suponiendo que ya tienes las probabilidades predichas por pu_bagging.predict_proba(unlabeled_samples)\n",
    "\n",
    "# Umbral para seleccionar muestras no deslizamiento\n",
    "threshold = 0.5  # Puedes ajustar este umbral según tus necesidades\n",
    "\n",
    "# Filtrar muestras no deslizamiento por debajo del umbral\n",
    "non_landslide_indices = np.where(probabilities < threshold)[0]\n",
    "selected_non_landslide_samples = unlabeled_samples.iloc[non_landslide_indices]\n",
    "\n",
    "# Ejemplo de cómo podrías utilizar las muestras seleccionadas\n",
    "print(\"Muestras no deslizamiento seleccionadas:\")\n",
    "print(selected_non_landslide_samples)\n"
   ]
  },
  {
   "cell_type": "code",
   "execution_count": 1089,
   "metadata": {},
   "outputs": [
    {
     "name": "stderr",
     "output_type": "stream",
     "text": [
      "C:\\Users\\Manuel\\AppData\\Local\\Temp\\ipykernel_14472\\2898638951.py:1: SettingWithCopyWarning: \n",
      "A value is trying to be set on a copy of a slice from a DataFrame.\n",
      "Try using .loc[row_indexer,col_indexer] = value instead\n",
      "\n",
      "See the caveats in the documentation: https://pandas.pydata.org/pandas-docs/stable/user_guide/indexing.html#returning-a-view-versus-a-copy\n",
      "  selected_non_landslide_samples['Valor'] = 0\n"
     ]
    }
   ],
   "source": [
    "selected_non_landslide_samples['Valor'] = 0\n",
    "data_1_final['Valor'] = 1\n",
    "\n",
    "data = pd.concat([data_1_final, selected_non_landslide_samples])\n",
    "data_y = data['Valor']\n",
    "data = data.drop(columns=['Valor'])"
   ]
  },
  {
   "cell_type": "code",
   "execution_count": 1090,
   "metadata": {},
   "outputs": [
    {
     "data": {
      "text/plain": [
       "((938, 20), (938,))"
      ]
     },
     "execution_count": 1090,
     "metadata": {},
     "output_type": "execute_result"
    }
   ],
   "source": [
    "data.shape, data_y.shape"
   ]
  },
  {
   "cell_type": "code",
   "execution_count": 1091,
   "metadata": {},
   "outputs": [
    {
     "name": "stdout",
     "output_type": "stream",
     "text": [
      "Numero de entrenamiendo: (750, 20), Numero de test: (188, 20)\n",
      "Fitting 5 folds for each of 50 candidates, totalling 250 fits\n",
      "Precisión de 84.57446808510637\n"
     ]
    }
   ],
   "source": [
    "from sklearn.model_selection import train_test_split\n",
    "from sklearn.model_selection import RandomizedSearchCV\n",
    "from sklearn.metrics import accuracy_score, f1_score\n",
    "from xgboost import XGBClassifier\n",
    "\n",
    "param_grid = {\n",
    "    'max_depth': [3, 5, 7, 10],\n",
    "    'learning_rate': [0.01, 0.1, 0.2, 0.3],\n",
    "    'n_estimators': [100, 200, 300, 500],\n",
    "    'subsample': [0.6, 0.8, 1.0],\n",
    "    'colsample_bytree': [0.6, 0.8, 1.0],\n",
    "    'gamma': [0, 0.1, 0.2, 0.3],\n",
    "    'reg_alpha': [0, 0.1, 0.5, 1.0],\n",
    "    'reg_lambda': [0, 1.0, 10.0]\n",
    "}\n",
    "\n",
    "X_train, X_test, y_train, y_test = train_test_split(data, data_y, test_size=0.2)\n",
    "print(f'Numero de entrenamiendo: {X_train.shape}, Numero de test: {X_test.shape}')\n",
    "model = XGBClassifier()\n",
    "random_search = RandomizedSearchCV(model, param_distributions=param_grid, n_iter=50, scoring='accuracy', cv=5, verbose=1, random_state=42)\n",
    "random_search.fit(X_train, y_train)\n",
    "best_model = random_search.best_estimator_\n",
    "y_pred = best_model.predict(X_test)\n",
    "acc = accuracy_score(y_true=y_test, y_pred=y_pred)\n",
    "print(f'Precisión de {acc*100}')\n"
   ]
  },
  {
   "cell_type": "code",
   "execution_count": null,
   "metadata": {},
   "outputs": [],
   "source": []
  }
 ],
 "metadata": {
  "kernelspec": {
   "display_name": "remocion_masas",
   "language": "python",
   "name": "python3"
  },
  "language_info": {
   "codemirror_mode": {
    "name": "ipython",
    "version": 3
   },
   "file_extension": ".py",
   "mimetype": "text/x-python",
   "name": "python",
   "nbconvert_exporter": "python",
   "pygments_lexer": "ipython3",
   "version": "3.9.0"
  }
 },
 "nbformat": 4,
 "nbformat_minor": 2
}
